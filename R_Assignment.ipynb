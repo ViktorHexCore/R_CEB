{
  "nbformat": 4,
  "nbformat_minor": 0,
  "metadata": {
    "colab": {
      "provenance": [],
      "collapsed_sections": [],
      "include_colab_link": true
    },
    "kernelspec": {
      "name": "ir",
      "display_name": "R"
    },
    "language_info": {
      "name": "R"
    }
  },
  "cells": [
    {
      "cell_type": "markdown",
      "metadata": {
        "id": "view-in-github",
        "colab_type": "text"
      },
      "source": [
        "<a href=\"https://colab.research.google.com/github/ViktorHexCore/R_CEB/blob/main/R_Assignment.ipynb\" target=\"_parent\"><img src=\"https://colab.research.google.com/assets/colab-badge.svg\" alt=\"Open In Colab\"/></a>"
      ]
    },
    {
      "cell_type": "code",
      "execution_count": null,
      "metadata": {
        "id": "PgHMyrqz8Eg_"
      },
      "outputs": [],
      "source": [
        "# install.packages(\"googledrive\")\n",
        "# library(\"googledrive\")\n",
        "# system('add-apt-repository ppa:git-core/ppa')\n",
        "# system('apt-get update')\n",
        "# system(\"apt-get install git-dev\")\n",
        "# !git --version"
      ]
    },
    {
      "cell_type": "code",
      "source": [
        "# install.packages(\"R.utils\")\n",
        "library(\"R.utils\")"
      ],
      "metadata": {
        "id": "o9K3m51r8aUS"
      },
      "execution_count": null,
      "outputs": []
    },
    {
      "cell_type": "code",
      "source": [
        "download.file(\"https://raw.githubusercontent.com/guyz/twitter-sentiment-dataset/master/corpus.csv\", \n",
        "              \"corpus.csv\")\n",
        "# gunzip('corpus.csv.gz')"
      ],
      "metadata": {
        "id": "qlEiQCBk8lZd"
      },
      "execution_count": null,
      "outputs": []
    },
    {
      "cell_type": "code",
      "source": [
        "R.version.string"
      ],
      "metadata": {
        "colab": {
          "base_uri": "https://localhost:8080/",
          "height": 34
        },
        "id": "eV-qdMz_809x",
        "outputId": "6e669cba-4f33-4193-a834-a84bc9352d0a"
      },
      "execution_count": null,
      "outputs": [
        {
          "output_type": "display_data",
          "data": {
            "text/html": [
              "'R version 4.2.1 (2022-06-23)'"
            ],
            "text/markdown": "'R version 4.2.1 (2022-06-23)'",
            "text/latex": "'R version 4.2.1 (2022-06-23)'",
            "text/plain": [
              "[1] \"R version 4.2.1 (2022-06-23)\""
            ]
          },
          "metadata": {}
        }
      ]
    },
    {
      "cell_type": "markdown",
      "source": [
        "# **A). From Autism-Adolescent-Data.csv and luekemiaData.csv data, complete the below tasks: (10 pts.)** "
      ],
      "metadata": {
        "id": "_f2gnlS4Ycj0"
      }
    },
    {
      "cell_type": "markdown",
      "source": [
        "## Import Autism-Adolescent-Data.csv"
      ],
      "metadata": {
        "id": "HMIExZZ7Y0ez"
      }
    },
    {
      "cell_type": "code",
      "source": [
        "# import autismData\n",
        "autismData <- read.csv(\"Autism-Adolescent-Data.csv\")"
      ],
      "metadata": {
        "id": "GF3ksFRK9B2f"
      },
      "execution_count": null,
      "outputs": []
    },
    {
      "cell_type": "code",
      "source": [
        "head(autismData, 5)"
      ],
      "metadata": {
        "colab": {
          "base_uri": "https://localhost:8080/",
          "height": 255
        },
        "id": "u9Swu3GRYY3U",
        "outputId": "4e17f905-5f54-4055-9613-3f8dac8d56e0"
      },
      "execution_count": null,
      "outputs": [
        {
          "output_type": "display_data",
          "data": {
            "text/html": [
              "<table class=\"dataframe\">\n",
              "<caption>A data.frame: 5 × 17</caption>\n",
              "<thead>\n",
              "\t<tr><th></th><th scope=col>A1.Score</th><th scope=col>A2.Score</th><th scope=col>A3.Score</th><th scope=col>A4.Score</th><th scope=col>A5.Score</th><th scope=col>A6.Score</th><th scope=col>A7.Score</th><th scope=col>A8.Score</th><th scope=col>A9.Score</th><th scope=col>A10.Score</th><th scope=col>age</th><th scope=col>gender</th><th scope=col>jundice</th><th scope=col>austim</th><th scope=col>used.app.before</th><th scope=col>result</th><th scope=col>Class.ASD</th></tr>\n",
              "\t<tr><th></th><th scope=col>&lt;int&gt;</th><th scope=col>&lt;int&gt;</th><th scope=col>&lt;chr&gt;</th><th scope=col>&lt;int&gt;</th><th scope=col>&lt;int&gt;</th><th scope=col>&lt;chr&gt;</th><th scope=col>&lt;int&gt;</th><th scope=col>&lt;int&gt;</th><th scope=col>&lt;int&gt;</th><th scope=col>&lt;chr&gt;</th><th scope=col>&lt;int&gt;</th><th scope=col>&lt;chr&gt;</th><th scope=col>&lt;chr&gt;</th><th scope=col>&lt;chr&gt;</th><th scope=col>&lt;chr&gt;</th><th scope=col>&lt;int&gt;</th><th scope=col>&lt;chr&gt;</th></tr>\n",
              "</thead>\n",
              "<tbody>\n",
              "\t<tr><th scope=row>1</th><td>0</td><td>0</td><td>0</td><td>1</td><td>1</td><td>1</td><td>1</td><td>1</td><td>1</td><td>0</td><td>15</td><td>m</td><td>yes</td><td>yes</td><td>no</td><td>6</td><td>NO </td></tr>\n",
              "\t<tr><th scope=row>2</th><td>0</td><td>0</td><td>0</td><td>0</td><td>0</td><td>0</td><td>0</td><td>0</td><td>1</td><td>1</td><td>15</td><td>m</td><td>no </td><td>no </td><td>no</td><td>2</td><td>NO </td></tr>\n",
              "\t<tr><th scope=row>3</th><td>0</td><td>0</td><td>0</td><td>0</td><td>0</td><td>0</td><td>0</td><td>0</td><td>1</td><td>1</td><td>12</td><td>f</td><td>no </td><td>no </td><td>no</td><td>2</td><td>NO </td></tr>\n",
              "\t<tr><th scope=row>4</th><td>0</td><td>1</td><td>1</td><td>1</td><td>1</td><td>1</td><td>0</td><td>1</td><td>1</td><td>0</td><td>14</td><td>f</td><td>no </td><td>no </td><td>no</td><td>7</td><td>YES</td></tr>\n",
              "\t<tr><th scope=row>5</th><td>1</td><td>1</td><td>1</td><td>1</td><td>1</td><td>1</td><td>1</td><td>0</td><td>0</td><td>0</td><td>16</td><td>f</td><td>no </td><td>no </td><td>no</td><td>7</td><td>YES</td></tr>\n",
              "</tbody>\n",
              "</table>\n"
            ],
            "text/markdown": "\nA data.frame: 5 × 17\n\n| <!--/--> | A1.Score &lt;int&gt; | A2.Score &lt;int&gt; | A3.Score &lt;chr&gt; | A4.Score &lt;int&gt; | A5.Score &lt;int&gt; | A6.Score &lt;chr&gt; | A7.Score &lt;int&gt; | A8.Score &lt;int&gt; | A9.Score &lt;int&gt; | A10.Score &lt;chr&gt; | age &lt;int&gt; | gender &lt;chr&gt; | jundice &lt;chr&gt; | austim &lt;chr&gt; | used.app.before &lt;chr&gt; | result &lt;int&gt; | Class.ASD &lt;chr&gt; |\n|---|---|---|---|---|---|---|---|---|---|---|---|---|---|---|---|---|---|\n| 1 | 0 | 0 | 0 | 1 | 1 | 1 | 1 | 1 | 1 | 0 | 15 | m | yes | yes | no | 6 | NO  |\n| 2 | 0 | 0 | 0 | 0 | 0 | 0 | 0 | 0 | 1 | 1 | 15 | m | no  | no  | no | 2 | NO  |\n| 3 | 0 | 0 | 0 | 0 | 0 | 0 | 0 | 0 | 1 | 1 | 12 | f | no  | no  | no | 2 | NO  |\n| 4 | 0 | 1 | 1 | 1 | 1 | 1 | 0 | 1 | 1 | 0 | 14 | f | no  | no  | no | 7 | YES |\n| 5 | 1 | 1 | 1 | 1 | 1 | 1 | 1 | 0 | 0 | 0 | 16 | f | no  | no  | no | 7 | YES |\n\n",
            "text/latex": "A data.frame: 5 × 17\n\\begin{tabular}{r|lllllllllllllllll}\n  & A1.Score & A2.Score & A3.Score & A4.Score & A5.Score & A6.Score & A7.Score & A8.Score & A9.Score & A10.Score & age & gender & jundice & austim & used.app.before & result & Class.ASD\\\\\n  & <int> & <int> & <chr> & <int> & <int> & <chr> & <int> & <int> & <int> & <chr> & <int> & <chr> & <chr> & <chr> & <chr> & <int> & <chr>\\\\\n\\hline\n\t1 & 0 & 0 & 0 & 1 & 1 & 1 & 1 & 1 & 1 & 0 & 15 & m & yes & yes & no & 6 & NO \\\\\n\t2 & 0 & 0 & 0 & 0 & 0 & 0 & 0 & 0 & 1 & 1 & 15 & m & no  & no  & no & 2 & NO \\\\\n\t3 & 0 & 0 & 0 & 0 & 0 & 0 & 0 & 0 & 1 & 1 & 12 & f & no  & no  & no & 2 & NO \\\\\n\t4 & 0 & 1 & 1 & 1 & 1 & 1 & 0 & 1 & 1 & 0 & 14 & f & no  & no  & no & 7 & YES\\\\\n\t5 & 1 & 1 & 1 & 1 & 1 & 1 & 1 & 0 & 0 & 0 & 16 & f & no  & no  & no & 7 & YES\\\\\n\\end{tabular}\n",
            "text/plain": [
              "  A1.Score A2.Score A3.Score A4.Score A5.Score A6.Score A7.Score A8.Score\n",
              "1 0        0        0        1        1        1        1        1       \n",
              "2 0        0        0        0        0        0        0        0       \n",
              "3 0        0        0        0        0        0        0        0       \n",
              "4 0        1        1        1        1        1        0        1       \n",
              "5 1        1        1        1        1        1        1        0       \n",
              "  A9.Score A10.Score age gender jundice austim used.app.before result Class.ASD\n",
              "1 1        0         15  m      yes     yes    no              6      NO       \n",
              "2 1        1         15  m      no      no     no              2      NO       \n",
              "3 1        1         12  f      no      no     no              2      NO       \n",
              "4 1        0         14  f      no      no     no              7      YES      \n",
              "5 0        0         16  f      no      no     no              7      YES      "
            ]
          },
          "metadata": {}
        }
      ]
    },
    {
      "cell_type": "code",
      "source": [
        "summary(autismData)"
      ],
      "metadata": {
        "id": "wwRTUAPdY8wn"
      },
      "execution_count": null,
      "outputs": []
    },
    {
      "cell_type": "markdown",
      "source": [
        "**1. Data management (Preparing, Cleansing, Imputation, etc.)**"
      ],
      "metadata": {
        "id": "w2d0XrOzZGld"
      }
    },
    {
      "cell_type": "code",
      "source": [
        "# find na value\n",
        "sapply(autismData, function(x) sum(is.na(x)))"
      ],
      "metadata": {
        "colab": {
          "base_uri": "https://localhost:8080/",
          "height": 52
        },
        "id": "qa1eCihRY-zA",
        "outputId": "ae3082e4-d4d4-4931-aa99-fe27f24b33be"
      },
      "execution_count": null,
      "outputs": [
        {
          "output_type": "display_data",
          "data": {
            "text/html": [
              "<style>\n",
              ".dl-inline {width: auto; margin:0; padding: 0}\n",
              ".dl-inline>dt, .dl-inline>dd {float: none; width: auto; display: inline-block}\n",
              ".dl-inline>dt::after {content: \":\\0020\"; padding-right: .5ex}\n",
              ".dl-inline>dt:not(:first-of-type) {padding-left: .5ex}\n",
              "</style><dl class=dl-inline><dt>A1.Score</dt><dd>0</dd><dt>A2.Score</dt><dd>0</dd><dt>A3.Score</dt><dd>0</dd><dt>A4.Score</dt><dd>0</dd><dt>A5.Score</dt><dd>0</dd><dt>A6.Score</dt><dd>0</dd><dt>A7.Score</dt><dd>0</dd><dt>A8.Score</dt><dd>0</dd><dt>A9.Score</dt><dd>0</dd><dt>A10.Score</dt><dd>0</dd><dt>age</dt><dd>0</dd><dt>gender</dt><dd>0</dd><dt>jundice</dt><dd>0</dd><dt>austim</dt><dd>0</dd><dt>used.app.before</dt><dd>0</dd><dt>result</dt><dd>0</dd><dt>Class.ASD</dt><dd>0</dd></dl>\n"
            ],
            "text/markdown": "A1.Score\n:   0A2.Score\n:   0A3.Score\n:   0A4.Score\n:   0A5.Score\n:   0A6.Score\n:   0A7.Score\n:   0A8.Score\n:   0A9.Score\n:   0A10.Score\n:   0age\n:   0gender\n:   0jundice\n:   0austim\n:   0used.app.before\n:   0result\n:   0Class.ASD\n:   0\n\n",
            "text/latex": "\\begin{description*}\n\\item[A1.Score] 0\n\\item[A2.Score] 0\n\\item[A3.Score] 0\n\\item[A4.Score] 0\n\\item[A5.Score] 0\n\\item[A6.Score] 0\n\\item[A7.Score] 0\n\\item[A8.Score] 0\n\\item[A9.Score] 0\n\\item[A10.Score] 0\n\\item[age] 0\n\\item[gender] 0\n\\item[jundice] 0\n\\item[austim] 0\n\\item[used.app.before] 0\n\\item[result] 0\n\\item[Class.ASD] 0\n\\end{description*}\n",
            "text/plain": [
              "       A1.Score        A2.Score        A3.Score        A4.Score        A5.Score \n",
              "              0               0               0               0               0 \n",
              "       A6.Score        A7.Score        A8.Score        A9.Score       A10.Score \n",
              "              0               0               0               0               0 \n",
              "            age          gender         jundice          austim used.app.before \n",
              "              0               0               0               0               0 \n",
              "         result       Class.ASD \n",
              "              0               0 "
            ]
          },
          "metadata": {}
        }
      ]
    },
    {
      "cell_type": "markdown",
      "source": [
        "**2. Build a classifier by using SVM, NN, and kNN**"
      ],
      "metadata": {
        "id": "qJ2zRP5sZYrT"
      }
    },
    {
      "cell_type": "code",
      "source": [
        "# install.packages('e1071')\n",
        "library(e1071)\n",
        "library(MASS)"
      ],
      "metadata": {
        "id": "Jy18KCK0aW4f"
      },
      "execution_count": null,
      "outputs": []
    },
    {
      "cell_type": "code",
      "source": [
        "allData <- autismData"
      ],
      "metadata": {
        "id": "kQ28f8bHa0X0"
      },
      "execution_count": null,
      "outputs": []
    },
    {
      "cell_type": "code",
      "source": [
        "# train test split model\n",
        "set.seed(111)\n",
        "ind <- sample(2, nrow(allData), replace = TRUE, prob = c(0.7, 0.3))\n",
        "trainData <- allData[ind == 1, ]\n",
        "testData <- allData[ind == 2, ]"
      ],
      "metadata": {
        "id": "7lzQoc7cag0R"
      },
      "execution_count": null,
      "outputs": []
    },
    {
      "cell_type": "markdown",
      "source": [
        "## 3. Model’s parameters tuning (if needs)\n",
        "4. Build a final model\n",
        "5. Model evaluation\n",
        "6. Results discussion (For example, Which method(model) should \n",
        "you choose? Why? Please explain as much as possible)"
      ],
      "metadata": {
        "id": "g-HZXVMsbqGV"
      }
    },
    {
      "cell_type": "code",
      "source": [
        "# tuning\n",
        "tune <- tune.svm(austim~., data=trainData, gamma=10^(-6:-1), cost=10^(1:4))\n",
        "summary(tune)"
      ],
      "metadata": {
        "id": "BAHH8qP_an5X"
      },
      "execution_count": null,
      "outputs": []
    },
    {
      "cell_type": "code",
      "source": [
        "# model <- svm(austim~., data=trainData, method=\"C-classification\", kernel=\"linear\", probability=T, \n",
        "# gamma=0.1, cost=10)\n",
        "# prediction <-predict(model, testData, probability=T)\n",
        "# table(testData$austim, prediction)\n",
        "# plot(model, allData)"
      ],
      "metadata": {
        "colab": {
          "base_uri": "https://localhost:8080/",
          "height": 130
        },
        "id": "SwAlswAeZWuS",
        "outputId": "45f151f0-2c1e-4359-e4f7-cd77c231be00"
      },
      "execution_count": null,
      "outputs": [
        {
          "output_type": "error",
          "ename": "ERROR",
          "evalue": "ignored",
          "traceback": [
            "Error in library(e1071): there is no package called ‘e1071’\nTraceback:\n",
            "1. library(e1071)"
          ]
        }
      ]
    },
    {
      "cell_type": "code",
      "source": [
        "3. Model’s parameters tuning (if needs)\n",
        "4. Build a final model\n",
        "5. Model evaluation\n",
        "6. Results discussion (For example, Which method(model) should \n",
        "you choose? Why? Please explain as much as possible)\n",
        "\n",
        "\n",
        "\n",
        "# B Describe all allalalalal"
      ],
      "metadata": {
        "id": "gGTDCRMXYMUp"
      },
      "execution_count": null,
      "outputs": []
    },
    {
      "cell_type": "markdown",
      "source": [
        "## C). (15 pts.) Aj. Ake wants to plan the daily nutrient intake when on a tight budget. The doctor \n",
        "**recommended the daily nutrients that Aj. Akeshould get:**\n",
        "- Calories per day at least 500 kcal.\n",
        "- At least 6 g. of protein.\n",
        "- Carbohydrate at least 10 g.\n",
        "- Fat at least 8 g.\n"
      ],
      "metadata": {
        "id": "pDcFms7Xb2x1"
      }
    },
    {
      "cell_type": "markdown",
      "source": [
        "show equation  \n",
        "400 x1 + 200 x2 + 150 x3 + 500 x4 >= 500 kcal\n",
        "\n",
        "3 x1 + 2 x2 + 0 x3 + 0 x4 >= 6 g protien\n",
        "\n",
        "2 x1 + 2 x2 + 4 x3 + 4 x4 >= 10 g carb\n",
        "\n",
        "2 x1 + 4 x2 + 1 x3 + 5 x4 >= 8 g fat\n",
        "\n",
        "objective function to get lowest price bath  \n",
        "500 x1 + 200 x2 + 300 x3 + 800 x4"
      ],
      "metadata": {
        "id": "PkPZcsGNcRAj"
      }
    },
    {
      "cell_type": "code",
      "source": [
        "# install.packages('lpSolve')\n",
        "library(lpSolve)"
      ],
      "metadata": {
        "id": "t6GVYCkgcVDv"
      },
      "execution_count": null,
      "outputs": []
    },
    {
      "cell_type": "code",
      "source": [
        "f.obj <- c(500, 200, 300, 800)"
      ],
      "metadata": {
        "id": "0PjNRCOmctZV"
      },
      "execution_count": null,
      "outputs": []
    },
    {
      "cell_type": "code",
      "source": [
        "f.con <- matrix(c(400, 200, 150, 500,\n",
        "3, 2, 0, 0,\n",
        "2, 2, 4, 4,\n",
        "2, 4, 1, 5), nrow = 4, byrow = TRUE)"
      ],
      "metadata": {
        "id": "Zn4oew60cvf9"
      },
      "execution_count": null,
      "outputs": []
    },
    {
      "cell_type": "code",
      "source": [
        "f.dir <-c(\">=\",\n",
        "\">=\",\n",
        "\">=\",\n",
        "\">=\")"
      ],
      "metadata": {
        "id": "H0DGFZqCcxrl"
      },
      "execution_count": null,
      "outputs": []
    },
    {
      "cell_type": "code",
      "source": [
        "f.rhs <-c(500,\n",
        "6,\n",
        "10,\n",
        "8)"
      ],
      "metadata": {
        "id": "BJgEpAUuczfs"
      },
      "execution_count": null,
      "outputs": []
    },
    {
      "cell_type": "code",
      "source": [
        "lp(\"min\", f.obj, f.con, f.dir, f.rhs)"
      ],
      "metadata": {
        "colab": {
          "base_uri": "https://localhost:8080/",
          "height": 34
        },
        "id": "UhY3MZsab1vk",
        "outputId": "26b1b15c-5dbf-45a7-e96d-645b474364d2"
      },
      "execution_count": null,
      "outputs": [
        {
          "output_type": "display_data",
          "data": {
            "text/plain": [
              "Success: the objective function is 900 "
            ]
          },
          "metadata": {}
        }
      ]
    },
    {
      "cell_type": "code",
      "source": [
        "lp(\"min\", f.obj, f.con, f.dir, f.rhs)$solution"
      ],
      "metadata": {
        "colab": {
          "base_uri": "https://localhost:8080/",
          "height": 34
        },
        "id": "n-kXywkFb1zB",
        "outputId": "20fa3487-2f61-4d00-8e74-316a1da00d23"
      },
      "execution_count": null,
      "outputs": [
        {
          "output_type": "display_data",
          "data": {
            "text/html": [
              "<style>\n",
              ".list-inline {list-style: none; margin:0; padding: 0}\n",
              ".list-inline>li {display: inline-block}\n",
              ".list-inline>li:not(:last-child)::after {content: \"\\00b7\"; padding: 0 .5ex}\n",
              "</style>\n",
              "<ol class=list-inline><li>0</li><li>3</li><li>1</li><li>0</li></ol>\n"
            ],
            "text/markdown": "1. 0\n2. 3\n3. 1\n4. 0\n\n\n",
            "text/latex": "\\begin{enumerate*}\n\\item 0\n\\item 3\n\\item 1\n\\item 0\n\\end{enumerate*}\n",
            "text/plain": [
              "[1] 0 3 1 0"
            ]
          },
          "metadata": {}
        }
      ]
    },
    {
      "cell_type": "markdown",
      "source": [
        "## **D). (10 pts.) you are a data scientist and your boss asks you to train a deep learning model by using an image data augmentation technique.Please create more 21 images from the original three images(x\u0002ray01.jpg, x-ray02.jpg, x-ray03.jpg) by using R.**"
      ],
      "metadata": {
        "id": "SNP_f-W1dDen"
      }
    },
    {
      "cell_type": "code",
      "source": [
        "# system('add-apt-repository -y ppa:cran/imagemagick')\n",
        "# system('apt-get update')\n",
        "# system(\"apt-get install libmagick++-dev\")\n",
        "# install.packages(\"magick\")\n",
        "library(magick)\n",
        "str(magick::magick_config())\n"
      ],
      "metadata": {
        "id": "lyGpqc-PdPMr"
      },
      "execution_count": null,
      "outputs": []
    },
    {
      "cell_type": "code",
      "source": [
        "xray1 <- image_read(\"x-ray01.jpg\")\n",
        "image_info(xray1)\n",
        "print(xray1)"
      ],
      "metadata": {
        "colab": {
          "base_uri": "https://localhost:8080/",
          "height": 448
        },
        "id": "Q_PFIQxFKuZL",
        "outputId": "54f31d96-ca71-4595-8ea4-b297404b7591"
      },
      "execution_count": null,
      "outputs": [
        {
          "output_type": "display_data",
          "data": {
            "text/html": [
              "<table class=\"dataframe\">\n",
              "<caption>A tibble: 1 × 7</caption>\n",
              "<thead>\n",
              "\t<tr><th scope=col>format</th><th scope=col>width</th><th scope=col>height</th><th scope=col>colorspace</th><th scope=col>matte</th><th scope=col>filesize</th><th scope=col>density</th></tr>\n",
              "\t<tr><th scope=col>&lt;chr&gt;</th><th scope=col>&lt;int&gt;</th><th scope=col>&lt;int&gt;</th><th scope=col>&lt;chr&gt;</th><th scope=col>&lt;lgl&gt;</th><th scope=col>&lt;int&gt;</th><th scope=col>&lt;chr&gt;</th></tr>\n",
              "</thead>\n",
              "<tbody>\n",
              "\t<tr><td>JPEG</td><td>203</td><td>249</td><td>sRGB</td><td>FALSE</td><td>4439</td><td>72x72</td></tr>\n",
              "</tbody>\n",
              "</table>\n"
            ],
            "text/markdown": "\nA tibble: 1 × 7\n\n| format &lt;chr&gt; | width &lt;int&gt; | height &lt;int&gt; | colorspace &lt;chr&gt; | matte &lt;lgl&gt; | filesize &lt;int&gt; | density &lt;chr&gt; |\n|---|---|---|---|---|---|---|\n| JPEG | 203 | 249 | sRGB | FALSE | 4439 | 72x72 |\n\n",
            "text/latex": "A tibble: 1 × 7\n\\begin{tabular}{lllllll}\n format & width & height & colorspace & matte & filesize & density\\\\\n <chr> & <int> & <int> & <chr> & <lgl> & <int> & <chr>\\\\\n\\hline\n\t JPEG & 203 & 249 & sRGB & FALSE & 4439 & 72x72\\\\\n\\end{tabular}\n",
            "text/plain": [
              "  format width height colorspace matte filesize density\n",
              "1 JPEG   203   249    sRGB       FALSE 4439     72x72  "
            ]
          },
          "metadata": {}
        },
        {
          "output_type": "display_data",
          "data": {
            "image/jpeg": "[encoded data removed]"
          },
          "metadata": {}
        },
        {
          "output_type": "stream",
          "name": "stdout",
          "text": [
            "\u001b[90m# A data frame: 1 × 7\u001b[39m\n",
            "  format width height colorspace matte filesize density\n",
            "  \u001b[3m\u001b[90m<chr>\u001b[39m\u001b[23m  \u001b[3m\u001b[90m<int>\u001b[39m\u001b[23m  \u001b[3m\u001b[90m<int>\u001b[39m\u001b[23m \u001b[3m\u001b[90m<chr>\u001b[39m\u001b[23m      \u001b[3m\u001b[90m<lgl>\u001b[39m\u001b[23m    \u001b[3m\u001b[90m<int>\u001b[39m\u001b[23m \u001b[3m\u001b[90m<chr>\u001b[39m\u001b[23m  \n",
            "\u001b[90m1\u001b[39m JPEG     203    249 sRGB       FALSE     \u001b[4m4\u001b[24m439 72x72  \n"
          ]
        }
      ]
    },
    {
      "cell_type": "code",
      "source": [
        "image_trim(xray1)"
      ],
      "metadata": {
        "id": "LKjPWwVkLBGK",
        "outputId": "499c4843-baa5-4c7b-9eba-7803eba5091e",
        "colab": {
          "base_uri": "https://localhost:8080/",
          "height": 335
        }
      },
      "execution_count": null,
      "outputs": [
        {
          "output_type": "display_data",
          "data": {
            "image/jpeg": "[encoded data removed]"
          },
          "metadata": {}
        },
        {
          "output_type": "display_data",
          "data": {
            "text/plain": [
              "\u001b[90m# A data frame: 1 × 7\u001b[39m\n",
              "  format width height colorspace matte filesize density\n",
              "  \u001b[3m\u001b[90m<chr>\u001b[39m\u001b[23m  \u001b[3m\u001b[90m<int>\u001b[39m\u001b[23m  \u001b[3m\u001b[90m<int>\u001b[39m\u001b[23m \u001b[3m\u001b[90m<chr>\u001b[39m\u001b[23m      \u001b[3m\u001b[90m<lgl>\u001b[39m\u001b[23m    \u001b[3m\u001b[90m<int>\u001b[39m\u001b[23m \u001b[3m\u001b[90m<chr>\u001b[39m\u001b[23m  \n",
              "\u001b[90m1\u001b[39m JPEG     203    249 sRGB       FALSE        0 72x72  "
            ]
          },
          "metadata": {}
        }
      ]
    },
    {
      "cell_type": "code",
      "source": [
        "xrayAug = image_crop(xray1,\"100x200+100\")\n",
        "\n",
        "xrayAug = image_scale(xray1,\"500\")\n",
        "\n",
        "xrayAug = image_scale(xray1,\"x150\")\n",
        "\n",
        "xrayAug = image_rotate(xray1, 30)\n",
        "\n",
        "xrayAug = image_rotate(xray1, 270)\n",
        "\n",
        "xrayAug = image_flip(xray1)\n",
        "\n",
        "xrayAug = image_modulate(xray1, brightness = 150, saturation = 111, hue = 77)\n",
        "\n",
        "# xrayAug = image_fill(xray1, \"blue\", point = \"+100+200\", fuzz = 10)\n",
        "\n",
        "image_write(xrayAug, path = \"show.jpg\", format = \"jpeg\", quality = 75)\n",
        "\n",
        "# repeat it with another images"
      ],
      "metadata": {
        "colab": {
          "base_uri": "https://localhost:8080/",
          "height": 96
        },
        "id": "QKs4B3NFc9Ha",
        "outputId": "6a064341-2f19-4ef9-fe72-a6eb9160f1ca"
      },
      "execution_count": null,
      "outputs": [
        {
          "output_type": "error",
          "ename": "ERROR",
          "evalue": "ignored",
          "traceback": [
            "Error in image_read(\"x-ray01.jpg\"): could not find function \"image_read\"\nTraceback:\n"
          ]
        }
      ]
    }
  ]
}