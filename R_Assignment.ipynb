{
  "nbformat": 4,
  "nbformat_minor": 0,
  "metadata": {
    "colab": {
      "provenance": [],
      "collapsed_sections": [
        "LwkyrTHd9lnx"
      ],
      "include_colab_link": true
    },
    "kernelspec": {
      "name": "ir",
      "display_name": "R"
    },
    "language_info": {
      "name": "R"
    }
  },
  "cells": [
    {
      "cell_type": "markdown",
      "metadata": {
        "id": "view-in-github",
        "colab_type": "text"
      },
      "source": [
        "<a href=\"https://colab.research.google.com/github/ViktorHexCore/R_CEB/blob/main/R_Assignment.ipynb\" target=\"_parent\"><img src=\"https://colab.research.google.com/assets/colab-badge.svg\" alt=\"Open In Colab\"/></a>"
      ]
    },
    {
      "cell_type": "code",
      "execution_count": null,
      "metadata": {
        "id": "PgHMyrqz8Eg_"
      },
      "outputs": [],
      "source": [
        "# install.packages(\"googledrive\")\n",
        "# library(\"googledrive\")\n",
        "# system('add-apt-repository ppa:git-core/ppa')\n",
        "# system('apt-get update')\n",
        "# system(\"apt-get install git-dev\")\n",
        "# !git --version"
      ]
    },
    {
      "cell_type": "code",
      "source": [
        "R.version.string"
      ],
      "metadata": {
        "colab": {
          "base_uri": "https://localhost:8080/",
          "height": 34
        },
        "id": "eV-qdMz_809x",
        "outputId": "81ac5baa-6192-4adc-d992-0d2409cfcff2"
      },
      "execution_count": null,
      "outputs": [
        {
          "output_type": "display_data",
          "data": {
            "text/html": [
              "'R version 4.2.1 (2022-06-23)'"
            ],
            "text/markdown": "'R version 4.2.1 (2022-06-23)'",
            "text/latex": "'R version 4.2.1 (2022-06-23)'",
            "text/plain": [
              "[1] \"R version 4.2.1 (2022-06-23)\""
            ]
          },
          "metadata": {}
        }
      ]
    },
    {
      "cell_type": "code",
      "source": [
        "install.packages(\"R.utils\")\n",
        "library(\"R.utils\")"
      ],
      "metadata": {
        "id": "o9K3m51r8aUS"
      },
      "execution_count": null,
      "outputs": []
    },
    {
      "cell_type": "code",
      "source": [
        "# get autism and leukemia csv from git hub url\n",
        "urlAutism = \"https://raw.githubusercontent.com/ViktorHexCore/R_CEB/main/DataForRpartOne/Autism-Adolescent-Data.csv\"\n",
        "urlLeukemia = \"https://raw.githubusercontent.com/ViktorHexCore/R_CEB/main/DataForRpartOne/leukemiaData.csv\"\n",
        "download.file(urlAutism, \"Autism-Adolescent-Data.csv\")\n",
        "download.file(urlLeukemia, \"leukemiaData.csv\")\n",
        "# gunzip('corpus.csv.gz')"
      ],
      "metadata": {
        "id": "qlEiQCBk8lZd"
      },
      "execution_count": null,
      "outputs": []
    },
    {
      "cell_type": "markdown",
      "source": [
        "# **A). From Autism-Adolescent-Data.csv and luekemiaData.csv data, complete the below tasks: (10 pts.)** "
      ],
      "metadata": {
        "id": "_f2gnlS4Ycj0"
      }
    },
    {
      "cell_type": "markdown",
      "source": [
        "## 1).Autism-Adolescent-Data.csv"
      ],
      "metadata": {
        "id": "QZVWp3o36eWA"
      }
    },
    {
      "cell_type": "markdown",
      "source": [
        "### Import Autism-Adolescent-Data.csv"
      ],
      "metadata": {
        "id": "HMIExZZ7Y0ez"
      }
    },
    {
      "cell_type": "code",
      "source": [
        "# import autismData\n",
        "autismData <- read.csv(\"Autism-Adolescent-Data.csv\")"
      ],
      "metadata": {
        "id": "GF3ksFRK9B2f"
      },
      "execution_count": null,
      "outputs": []
    },
    {
      "cell_type": "code",
      "source": [
        "head(autismData)"
      ],
      "metadata": {
        "colab": {
          "base_uri": "https://localhost:8080/",
          "height": 286
        },
        "id": "u9Swu3GRYY3U",
        "outputId": "a6f57320-9bdc-4b6d-9195-9878a8cf876a"
      },
      "execution_count": null,
      "outputs": [
        {
          "output_type": "display_data",
          "data": {
            "text/html": [
              "<table class=\"dataframe\">\n",
              "<caption>A data.frame: 6 × 17</caption>\n",
              "<thead>\n",
              "\t<tr><th></th><th scope=col>A1.Score</th><th scope=col>A2.Score</th><th scope=col>A3.Score</th><th scope=col>A4.Score</th><th scope=col>A5.Score</th><th scope=col>A6.Score</th><th scope=col>A7.Score</th><th scope=col>A8.Score</th><th scope=col>A9.Score</th><th scope=col>A10.Score</th><th scope=col>age</th><th scope=col>gender</th><th scope=col>jundice</th><th scope=col>austim</th><th scope=col>used.app.before</th><th scope=col>result</th><th scope=col>Class.ASD</th></tr>\n",
              "\t<tr><th></th><th scope=col>&lt;int&gt;</th><th scope=col>&lt;int&gt;</th><th scope=col>&lt;chr&gt;</th><th scope=col>&lt;int&gt;</th><th scope=col>&lt;int&gt;</th><th scope=col>&lt;chr&gt;</th><th scope=col>&lt;int&gt;</th><th scope=col>&lt;int&gt;</th><th scope=col>&lt;int&gt;</th><th scope=col>&lt;chr&gt;</th><th scope=col>&lt;int&gt;</th><th scope=col>&lt;chr&gt;</th><th scope=col>&lt;chr&gt;</th><th scope=col>&lt;chr&gt;</th><th scope=col>&lt;chr&gt;</th><th scope=col>&lt;int&gt;</th><th scope=col>&lt;chr&gt;</th></tr>\n",
              "</thead>\n",
              "<tbody>\n",
              "\t<tr><th scope=row>1</th><td>0</td><td>0</td><td>0</td><td>1</td><td>1</td><td>1</td><td>1</td><td>1</td><td>1</td><td>0</td><td>15</td><td>m</td><td>yes</td><td>yes</td><td>no</td><td>6</td><td>NO </td></tr>\n",
              "\t<tr><th scope=row>2</th><td>0</td><td>0</td><td>0</td><td>0</td><td>0</td><td>0</td><td>0</td><td>0</td><td>1</td><td>1</td><td>15</td><td>m</td><td>no </td><td>no </td><td>no</td><td>2</td><td>NO </td></tr>\n",
              "\t<tr><th scope=row>3</th><td>0</td><td>0</td><td>0</td><td>0</td><td>0</td><td>0</td><td>0</td><td>0</td><td>1</td><td>1</td><td>12</td><td>f</td><td>no </td><td>no </td><td>no</td><td>2</td><td>NO </td></tr>\n",
              "\t<tr><th scope=row>4</th><td>0</td><td>1</td><td>1</td><td>1</td><td>1</td><td>1</td><td>0</td><td>1</td><td>1</td><td>0</td><td>14</td><td>f</td><td>no </td><td>no </td><td>no</td><td>7</td><td>YES</td></tr>\n",
              "\t<tr><th scope=row>5</th><td>1</td><td>1</td><td>1</td><td>1</td><td>1</td><td>1</td><td>1</td><td>0</td><td>0</td><td>0</td><td>16</td><td>f</td><td>no </td><td>no </td><td>no</td><td>7</td><td>YES</td></tr>\n",
              "\t<tr><th scope=row>6</th><td>1</td><td>0</td><td>0</td><td>0</td><td>0</td><td>1</td><td>0</td><td>0</td><td>1</td><td>0</td><td>13</td><td>f</td><td>no </td><td>no </td><td>no</td><td>3</td><td>NO </td></tr>\n",
              "</tbody>\n",
              "</table>\n"
            ],
            "text/markdown": "\nA data.frame: 6 × 17\n\n| <!--/--> | A1.Score &lt;int&gt; | A2.Score &lt;int&gt; | A3.Score &lt;chr&gt; | A4.Score &lt;int&gt; | A5.Score &lt;int&gt; | A6.Score &lt;chr&gt; | A7.Score &lt;int&gt; | A8.Score &lt;int&gt; | A9.Score &lt;int&gt; | A10.Score &lt;chr&gt; | age &lt;int&gt; | gender &lt;chr&gt; | jundice &lt;chr&gt; | austim &lt;chr&gt; | used.app.before &lt;chr&gt; | result &lt;int&gt; | Class.ASD &lt;chr&gt; |\n|---|---|---|---|---|---|---|---|---|---|---|---|---|---|---|---|---|---|\n| 1 | 0 | 0 | 0 | 1 | 1 | 1 | 1 | 1 | 1 | 0 | 15 | m | yes | yes | no | 6 | NO  |\n| 2 | 0 | 0 | 0 | 0 | 0 | 0 | 0 | 0 | 1 | 1 | 15 | m | no  | no  | no | 2 | NO  |\n| 3 | 0 | 0 | 0 | 0 | 0 | 0 | 0 | 0 | 1 | 1 | 12 | f | no  | no  | no | 2 | NO  |\n| 4 | 0 | 1 | 1 | 1 | 1 | 1 | 0 | 1 | 1 | 0 | 14 | f | no  | no  | no | 7 | YES |\n| 5 | 1 | 1 | 1 | 1 | 1 | 1 | 1 | 0 | 0 | 0 | 16 | f | no  | no  | no | 7 | YES |\n| 6 | 1 | 0 | 0 | 0 | 0 | 1 | 0 | 0 | 1 | 0 | 13 | f | no  | no  | no | 3 | NO  |\n\n",
            "text/latex": "A data.frame: 6 × 17\n\\begin{tabular}{r|lllllllllllllllll}\n  & A1.Score & A2.Score & A3.Score & A4.Score & A5.Score & A6.Score & A7.Score & A8.Score & A9.Score & A10.Score & age & gender & jundice & austim & used.app.before & result & Class.ASD\\\\\n  & <int> & <int> & <chr> & <int> & <int> & <chr> & <int> & <int> & <int> & <chr> & <int> & <chr> & <chr> & <chr> & <chr> & <int> & <chr>\\\\\n\\hline\n\t1 & 0 & 0 & 0 & 1 & 1 & 1 & 1 & 1 & 1 & 0 & 15 & m & yes & yes & no & 6 & NO \\\\\n\t2 & 0 & 0 & 0 & 0 & 0 & 0 & 0 & 0 & 1 & 1 & 15 & m & no  & no  & no & 2 & NO \\\\\n\t3 & 0 & 0 & 0 & 0 & 0 & 0 & 0 & 0 & 1 & 1 & 12 & f & no  & no  & no & 2 & NO \\\\\n\t4 & 0 & 1 & 1 & 1 & 1 & 1 & 0 & 1 & 1 & 0 & 14 & f & no  & no  & no & 7 & YES\\\\\n\t5 & 1 & 1 & 1 & 1 & 1 & 1 & 1 & 0 & 0 & 0 & 16 & f & no  & no  & no & 7 & YES\\\\\n\t6 & 1 & 0 & 0 & 0 & 0 & 1 & 0 & 0 & 1 & 0 & 13 & f & no  & no  & no & 3 & NO \\\\\n\\end{tabular}\n",
            "text/plain": [
              "  A1.Score A2.Score A3.Score A4.Score A5.Score A6.Score A7.Score A8.Score\n",
              "1 0        0        0        1        1        1        1        1       \n",
              "2 0        0        0        0        0        0        0        0       \n",
              "3 0        0        0        0        0        0        0        0       \n",
              "4 0        1        1        1        1        1        0        1       \n",
              "5 1        1        1        1        1        1        1        0       \n",
              "6 1        0        0        0        0        1        0        0       \n",
              "  A9.Score A10.Score age gender jundice austim used.app.before result Class.ASD\n",
              "1 1        0         15  m      yes     yes    no              6      NO       \n",
              "2 1        1         15  m      no      no     no              2      NO       \n",
              "3 1        1         12  f      no      no     no              2      NO       \n",
              "4 1        0         14  f      no      no     no              7      YES      \n",
              "5 0        0         16  f      no      no     no              7      YES      \n",
              "6 1        0         13  f      no      no     no              3      NO       "
            ]
          },
          "metadata": {}
        }
      ]
    },
    {
      "cell_type": "code",
      "source": [
        "summary(autismData)"
      ],
      "metadata": {
        "id": "wwRTUAPdY8wn"
      },
      "execution_count": null,
      "outputs": []
    },
    {
      "cell_type": "markdown",
      "source": [
        "##### 1. Data management (Preparing, Cleansing, Imputation, etc.)"
      ],
      "metadata": {
        "id": "w2d0XrOzZGld"
      }
    },
    {
      "cell_type": "code",
      "source": [
        "# find na value\n",
        "sapply(autismData, function(x) sum(is.na(x)))"
      ],
      "metadata": {
        "colab": {
          "base_uri": "https://localhost:8080/",
          "height": 52
        },
        "id": "qa1eCihRY-zA",
        "outputId": "10a516fa-de80-4869-e5e6-16b4f60d3888"
      },
      "execution_count": null,
      "outputs": [
        {
          "output_type": "display_data",
          "data": {
            "text/html": [
              "<style>\n",
              ".dl-inline {width: auto; margin:0; padding: 0}\n",
              ".dl-inline>dt, .dl-inline>dd {float: none; width: auto; display: inline-block}\n",
              ".dl-inline>dt::after {content: \":\\0020\"; padding-right: .5ex}\n",
              ".dl-inline>dt:not(:first-of-type) {padding-left: .5ex}\n",
              "</style><dl class=dl-inline><dt>A1.Score</dt><dd>0</dd><dt>A2.Score</dt><dd>0</dd><dt>A3.Score</dt><dd>0</dd><dt>A4.Score</dt><dd>0</dd><dt>A5.Score</dt><dd>0</dd><dt>A6.Score</dt><dd>0</dd><dt>A7.Score</dt><dd>0</dd><dt>A8.Score</dt><dd>0</dd><dt>A9.Score</dt><dd>0</dd><dt>A10.Score</dt><dd>0</dd><dt>age</dt><dd>0</dd><dt>gender</dt><dd>0</dd><dt>jundice</dt><dd>0</dd><dt>austim</dt><dd>0</dd><dt>used.app.before</dt><dd>0</dd><dt>result</dt><dd>0</dd><dt>Class.ASD</dt><dd>0</dd></dl>\n"
            ],
            "text/markdown": "A1.Score\n:   0A2.Score\n:   0A3.Score\n:   0A4.Score\n:   0A5.Score\n:   0A6.Score\n:   0A7.Score\n:   0A8.Score\n:   0A9.Score\n:   0A10.Score\n:   0age\n:   0gender\n:   0jundice\n:   0austim\n:   0used.app.before\n:   0result\n:   0Class.ASD\n:   0\n\n",
            "text/latex": "\\begin{description*}\n\\item[A1.Score] 0\n\\item[A2.Score] 0\n\\item[A3.Score] 0\n\\item[A4.Score] 0\n\\item[A5.Score] 0\n\\item[A6.Score] 0\n\\item[A7.Score] 0\n\\item[A8.Score] 0\n\\item[A9.Score] 0\n\\item[A10.Score] 0\n\\item[age] 0\n\\item[gender] 0\n\\item[jundice] 0\n\\item[austim] 0\n\\item[used.app.before] 0\n\\item[result] 0\n\\item[Class.ASD] 0\n\\end{description*}\n",
            "text/plain": [
              "       A1.Score        A2.Score        A3.Score        A4.Score        A5.Score \n",
              "              0               0               0               0               0 \n",
              "       A6.Score        A7.Score        A8.Score        A9.Score       A10.Score \n",
              "              0               0               0               0               0 \n",
              "            age          gender         jundice          austim used.app.before \n",
              "              0               0               0               0               0 \n",
              "         result       Class.ASD \n",
              "              0               0 "
            ]
          },
          "metadata": {}
        }
      ]
    },
    {
      "cell_type": "markdown",
      "source": [
        "##### 2. Build a classifier by using SVM, NN, and kNN \n",
        "##### 3. Model’s parameters tuning (if needs)\n",
        "##### 4. Build a final model"
      ],
      "metadata": {
        "id": "qJ2zRP5sZYrT"
      }
    },
    {
      "cell_type": "markdown",
      "source": [
        "###### SVM"
      ],
      "metadata": {
        "id": "LwkyrTHd9lnx"
      }
    },
    {
      "cell_type": "code",
      "source": [
        "install.packages('e1071')\n",
        "install.packages('MASS')\n",
        "library(e1071)\n",
        "library(MASS)"
      ],
      "metadata": {
        "id": "Jy18KCK0aW4f",
        "colab": {
          "base_uri": "https://localhost:8080/"
        },
        "outputId": "d1aa43d4-3a2a-4f5a-b892-95bce2d03179"
      },
      "execution_count": null,
      "outputs": [
        {
          "output_type": "stream",
          "name": "stderr",
          "text": [
            "Installing package into ‘/usr/local/lib/R/site-library’\n",
            "(as ‘lib’ is unspecified)\n",
            "\n",
            "also installing the dependency ‘proxy’\n",
            "\n",
            "\n",
            "Installing package into ‘/usr/local/lib/R/site-library’\n",
            "(as ‘lib’ is unspecified)\n",
            "\n"
          ]
        }
      ]
    },
    {
      "cell_type": "code",
      "source": [
        "allData <- autismData"
      ],
      "metadata": {
        "id": "kQ28f8bHa0X0"
      },
      "execution_count": null,
      "outputs": []
    },
    {
      "cell_type": "code",
      "source": [
        "# train test split model\n",
        "set.seed(111)\n",
        "ind <- sample(2, nrow(allData), replace = TRUE, prob = c(0.7, 0.3))\n",
        "trainData <- allData[ind == 1, ]\n",
        "testData <- allData[ind == 2, ]"
      ],
      "metadata": {
        "id": "7lzQoc7cag0R"
      },
      "execution_count": null,
      "outputs": []
    },
    {
      "cell_type": "markdown",
      "source": [],
      "metadata": {
        "id": "g-HZXVMsbqGV"
      }
    },
    {
      "cell_type": "code",
      "source": [
        "# tuning\n",
        "tune <- tune.svm(austim~., data=trainData, gamma=10^(-6:-1), cost=10^(1:4))\n",
        "summary(tune)"
      ],
      "metadata": {
        "id": "BAHH8qP_an5X"
      },
      "execution_count": null,
      "outputs": []
    },
    {
      "cell_type": "code",
      "source": [
        "# model <- svm(austim~., data=trainData, method=\"C-classification\", kernel=\"linear\", probability=T, \n",
        "# gamma=0.1, cost=10)\n",
        "# prediction <-predict(model, testData, probability=T)\n",
        "# table(testData$austim, prediction)\n",
        "# plot(model, allData)"
      ],
      "metadata": {
        "id": "SwAlswAeZWuS"
      },
      "execution_count": null,
      "outputs": []
    },
    {
      "cell_type": "code",
      "source": [
        "install.packages('caret')\n",
        "install.packages('lattice')\n",
        "install.packages('ggplot2')\n",
        "library(caret)\n",
        "library(lattice)\n",
        "library(ggplot2)"
      ],
      "metadata": {
        "id": "ywho2bRcD_UF"
      },
      "execution_count": null,
      "outputs": []
    },
    {
      "cell_type": "markdown",
      "source": [
        "###### Neural network"
      ],
      "metadata": {
        "id": "4mtJTHDcEXYK"
      }
    },
    {
      "cell_type": "code",
      "source": [
        "install.packages('neuralnet')\n",
        "library(neuralnet)"
      ],
      "metadata": {
        "id": "_s4QJDxEEaOc"
      },
      "execution_count": null,
      "outputs": []
    },
    {
      "cell_type": "markdown",
      "source": [
        "##### 5. Model evaluation\n",
        "##### 6. Results discussion (For example, Which method(model) should \n",
        "you choose? Why? Please explain as much as possible)"
      ],
      "metadata": {
        "id": "kOVgL8O1BOEb"
      }
    },
    {
      "cell_type": "markdown",
      "source": [
        "## 2) luekemiaData.csv"
      ],
      "metadata": {
        "id": "5viO3pLE622R"
      }
    },
    {
      "cell_type": "markdown",
      "source": [
        "### import luekemiaData.csv data"
      ],
      "metadata": {
        "id": "KeEWDsNH6-w2"
      }
    },
    {
      "cell_type": "code",
      "source": [
        "# import luekemiaData.csv\n",
        "# leukemiaData <- read.csv(\"leukemiaData.csv\")\n",
        "leukemiaData <- read.table(\"leukemiaData.csv\", header=TRUE, sep=\",\")\n",
        "head(leukemiaData)"
      ],
      "metadata": {
        "colab": {
          "base_uri": "https://localhost:8080/",
          "height": 286
        },
        "id": "rlbieGF27VLv",
        "outputId": "d51c122b-b895-42b3-ac6d-b470888343b6"
      },
      "execution_count": null,
      "outputs": [
        {
          "output_type": "display_data",
          "data": {
            "text/html": [
              "<table class=\"dataframe\">\n",
              "<caption>A data.frame: 6 × 15</caption>\n",
              "<thead>\n",
              "\t<tr><th></th><th scope=col>g1</th><th scope=col>g2</th><th scope=col>g3</th><th scope=col>g4</th><th scope=col>g5</th><th scope=col>g6</th><th scope=col>g7</th><th scope=col>g8</th><th scope=col>g9</th><th scope=col>g10</th><th scope=col>g11</th><th scope=col>g12</th><th scope=col>g13</th><th scope=col>g14</th><th scope=col>Class</th></tr>\n",
              "\t<tr><th></th><th scope=col>&lt;dbl&gt;</th><th scope=col>&lt;dbl&gt;</th><th scope=col>&lt;dbl&gt;</th><th scope=col>&lt;dbl&gt;</th><th scope=col>&lt;dbl&gt;</th><th scope=col>&lt;dbl&gt;</th><th scope=col>&lt;dbl&gt;</th><th scope=col>&lt;dbl&gt;</th><th scope=col>&lt;dbl&gt;</th><th scope=col>&lt;dbl&gt;</th><th scope=col>&lt;dbl&gt;</th><th scope=col>&lt;dbl&gt;</th><th scope=col>&lt;dbl&gt;</th><th scope=col>&lt;dbl&gt;</th><th scope=col>&lt;chr&gt;</th></tr>\n",
              "</thead>\n",
              "<tbody>\n",
              "\t<tr><th scope=row>1</th><td>-161.8</td><td>  34.8</td><td>-34.4</td><td>179.1</td><td>41796.7</td><td>115.6</td><td> -90.9</td><td>58786.1</td><td>33123.1</td><td>-161.1</td><td>224.8</td><td>543.4</td><td> 553.3</td><td>258.5</td><td>ALL</td></tr>\n",
              "\t<tr><th scope=row>2</th><td>-231.0</td><td>-102.0</td><td>-31.0</td><td> 61.0</td><td> 8931.0</td><td>159.0</td><td> -71.0</td><td>11987.0</td><td>30918.0</td><td>-293.0</td><td> 28.0</td><td>977.0</td><td>3849.0</td><td>375.0</td><td>ALL</td></tr>\n",
              "\t<tr><th scope=row>3</th><td>-279.0</td><td>  91.0</td><td>-30.0</td><td>148.0</td><td>13966.0</td><td> -3.0</td><td> -86.0</td><td>33933.0</td><td>36121.0</td><td>-186.0</td><td> 34.0</td><td>118.0</td><td> 678.0</td><td>203.0</td><td>ALL</td></tr>\n",
              "\t<tr><th scope=row>4</th><td> -20.0</td><td> 115.0</td><td>-10.0</td><td> 29.0</td><td>12994.0</td><td>181.0</td><td>-136.0</td><td>12087.0</td><td>35378.0</td><td>-214.0</td><td> 39.0</td><td> 38.0</td><td> 999.0</td><td>  9.0</td><td>ALL</td></tr>\n",
              "\t<tr><th scope=row>5</th><td>-268.0</td><td> 128.0</td><td> 80.0</td><td>337.0</td><td>10895.0</td><td>146.0</td><td> -96.0</td><td>23603.0</td><td>40302.0</td><td>-216.0</td><td>155.0</td><td>609.0</td><td>1005.0</td><td>385.0</td><td>ALL</td></tr>\n",
              "\t<tr><th scope=row>6</th><td>-370.0</td><td>  10.0</td><td> 22.0</td><td>153.0</td><td>15493.0</td><td> 84.0</td><td>-117.0</td><td>16300.0</td><td>40460.0</td><td>-310.0</td><td>173.0</td><td>653.0</td><td>3293.0</td><td>475.0</td><td>ALL</td></tr>\n",
              "</tbody>\n",
              "</table>\n"
            ],
            "text/markdown": "\nA data.frame: 6 × 15\n\n| <!--/--> | g1 &lt;dbl&gt; | g2 &lt;dbl&gt; | g3 &lt;dbl&gt; | g4 &lt;dbl&gt; | g5 &lt;dbl&gt; | g6 &lt;dbl&gt; | g7 &lt;dbl&gt; | g8 &lt;dbl&gt; | g9 &lt;dbl&gt; | g10 &lt;dbl&gt; | g11 &lt;dbl&gt; | g12 &lt;dbl&gt; | g13 &lt;dbl&gt; | g14 &lt;dbl&gt; | Class &lt;chr&gt; |\n|---|---|---|---|---|---|---|---|---|---|---|---|---|---|---|---|\n| 1 | -161.8 |   34.8 | -34.4 | 179.1 | 41796.7 | 115.6 |  -90.9 | 58786.1 | 33123.1 | -161.1 | 224.8 | 543.4 |  553.3 | 258.5 | ALL |\n| 2 | -231.0 | -102.0 | -31.0 |  61.0 |  8931.0 | 159.0 |  -71.0 | 11987.0 | 30918.0 | -293.0 |  28.0 | 977.0 | 3849.0 | 375.0 | ALL |\n| 3 | -279.0 |   91.0 | -30.0 | 148.0 | 13966.0 |  -3.0 |  -86.0 | 33933.0 | 36121.0 | -186.0 |  34.0 | 118.0 |  678.0 | 203.0 | ALL |\n| 4 |  -20.0 |  115.0 | -10.0 |  29.0 | 12994.0 | 181.0 | -136.0 | 12087.0 | 35378.0 | -214.0 |  39.0 |  38.0 |  999.0 |   9.0 | ALL |\n| 5 | -268.0 |  128.0 |  80.0 | 337.0 | 10895.0 | 146.0 |  -96.0 | 23603.0 | 40302.0 | -216.0 | 155.0 | 609.0 | 1005.0 | 385.0 | ALL |\n| 6 | -370.0 |   10.0 |  22.0 | 153.0 | 15493.0 |  84.0 | -117.0 | 16300.0 | 40460.0 | -310.0 | 173.0 | 653.0 | 3293.0 | 475.0 | ALL |\n\n",
            "text/latex": "A data.frame: 6 × 15\n\\begin{tabular}{r|lllllllllllllll}\n  & g1 & g2 & g3 & g4 & g5 & g6 & g7 & g8 & g9 & g10 & g11 & g12 & g13 & g14 & Class\\\\\n  & <dbl> & <dbl> & <dbl> & <dbl> & <dbl> & <dbl> & <dbl> & <dbl> & <dbl> & <dbl> & <dbl> & <dbl> & <dbl> & <dbl> & <chr>\\\\\n\\hline\n\t1 & -161.8 &   34.8 & -34.4 & 179.1 & 41796.7 & 115.6 &  -90.9 & 58786.1 & 33123.1 & -161.1 & 224.8 & 543.4 &  553.3 & 258.5 & ALL\\\\\n\t2 & -231.0 & -102.0 & -31.0 &  61.0 &  8931.0 & 159.0 &  -71.0 & 11987.0 & 30918.0 & -293.0 &  28.0 & 977.0 & 3849.0 & 375.0 & ALL\\\\\n\t3 & -279.0 &   91.0 & -30.0 & 148.0 & 13966.0 &  -3.0 &  -86.0 & 33933.0 & 36121.0 & -186.0 &  34.0 & 118.0 &  678.0 & 203.0 & ALL\\\\\n\t4 &  -20.0 &  115.0 & -10.0 &  29.0 & 12994.0 & 181.0 & -136.0 & 12087.0 & 35378.0 & -214.0 &  39.0 &  38.0 &  999.0 &   9.0 & ALL\\\\\n\t5 & -268.0 &  128.0 &  80.0 & 337.0 & 10895.0 & 146.0 &  -96.0 & 23603.0 & 40302.0 & -216.0 & 155.0 & 609.0 & 1005.0 & 385.0 & ALL\\\\\n\t6 & -370.0 &   10.0 &  22.0 & 153.0 & 15493.0 &  84.0 & -117.0 & 16300.0 & 40460.0 & -310.0 & 173.0 & 653.0 & 3293.0 & 475.0 & ALL\\\\\n\\end{tabular}\n",
            "text/plain": [
              "  g1     g2     g3    g4    g5      g6    g7     g8      g9      g10    g11  \n",
              "1 -161.8   34.8 -34.4 179.1 41796.7 115.6  -90.9 58786.1 33123.1 -161.1 224.8\n",
              "2 -231.0 -102.0 -31.0  61.0  8931.0 159.0  -71.0 11987.0 30918.0 -293.0  28.0\n",
              "3 -279.0   91.0 -30.0 148.0 13966.0  -3.0  -86.0 33933.0 36121.0 -186.0  34.0\n",
              "4  -20.0  115.0 -10.0  29.0 12994.0 181.0 -136.0 12087.0 35378.0 -214.0  39.0\n",
              "5 -268.0  128.0  80.0 337.0 10895.0 146.0  -96.0 23603.0 40302.0 -216.0 155.0\n",
              "6 -370.0   10.0  22.0 153.0 15493.0  84.0 -117.0 16300.0 40460.0 -310.0 173.0\n",
              "  g12   g13    g14   Class\n",
              "1 543.4  553.3 258.5 ALL  \n",
              "2 977.0 3849.0 375.0 ALL  \n",
              "3 118.0  678.0 203.0 ALL  \n",
              "4  38.0  999.0   9.0 ALL  \n",
              "5 609.0 1005.0 385.0 ALL  \n",
              "6 653.0 3293.0 475.0 ALL  "
            ]
          },
          "metadata": {}
        }
      ]
    },
    {
      "cell_type": "markdown",
      "source": [
        "##### 1. Data management (Preparing, Cleansing, Imputation, etc.)"
      ],
      "metadata": {
        "id": "NCHedK6n8bnp"
      }
    },
    {
      "cell_type": "code",
      "source": [
        "# find na value\n",
        "sapply(leukemiaData, function(x) sum(is.na(x)))"
      ],
      "metadata": {
        "colab": {
          "base_uri": "https://localhost:8080/",
          "height": 34
        },
        "outputId": "46e482d5-741b-4e35-ae76-9679be94602b",
        "id": "HRUY-ObD8Y37"
      },
      "execution_count": null,
      "outputs": [
        {
          "output_type": "display_data",
          "data": {
            "text/html": [
              "<style>\n",
              ".dl-inline {width: auto; margin:0; padding: 0}\n",
              ".dl-inline>dt, .dl-inline>dd {float: none; width: auto; display: inline-block}\n",
              ".dl-inline>dt::after {content: \":\\0020\"; padding-right: .5ex}\n",
              ".dl-inline>dt:not(:first-of-type) {padding-left: .5ex}\n",
              "</style><dl class=dl-inline><dt>g1</dt><dd>0</dd><dt>g2</dt><dd>0</dd><dt>g3</dt><dd>0</dd><dt>g4</dt><dd>0</dd><dt>g5</dt><dd>0</dd><dt>g6</dt><dd>0</dd><dt>g7</dt><dd>0</dd><dt>g8</dt><dd>0</dd><dt>g9</dt><dd>0</dd><dt>g10</dt><dd>0</dd><dt>g11</dt><dd>0</dd><dt>g12</dt><dd>0</dd><dt>g13</dt><dd>0</dd><dt>g14</dt><dd>0</dd><dt>Class</dt><dd>0</dd></dl>\n"
            ],
            "text/markdown": "g1\n:   0g2\n:   0g3\n:   0g4\n:   0g5\n:   0g6\n:   0g7\n:   0g8\n:   0g9\n:   0g10\n:   0g11\n:   0g12\n:   0g13\n:   0g14\n:   0Class\n:   0\n\n",
            "text/latex": "\\begin{description*}\n\\item[g1] 0\n\\item[g2] 0\n\\item[g3] 0\n\\item[g4] 0\n\\item[g5] 0\n\\item[g6] 0\n\\item[g7] 0\n\\item[g8] 0\n\\item[g9] 0\n\\item[g10] 0\n\\item[g11] 0\n\\item[g12] 0\n\\item[g13] 0\n\\item[g14] 0\n\\item[Class] 0\n\\end{description*}\n",
            "text/plain": [
              "   g1    g2    g3    g4    g5    g6    g7    g8    g9   g10   g11   g12   g13 \n",
              "    0     0     0     0     0     0     0     0     0     0     0     0     0 \n",
              "  g14 Class \n",
              "    0     0 "
            ]
          },
          "metadata": {}
        }
      ]
    },
    {
      "cell_type": "markdown",
      "source": [
        "##### 2. Build a classifier by using SVM, NN, and kNN \n",
        "##### 3. Model’s parameters tuning (if needs)\n",
        "##### 4. Build a final model\n"
      ],
      "metadata": {
        "id": "TlKkirj_9RHK"
      }
    },
    {
      "cell_type": "markdown",
      "source": [
        "###### SVM"
      ],
      "metadata": {
        "id": "idpOTvpc9fXW"
      }
    },
    {
      "cell_type": "code",
      "source": [
        "library(e1071)\n",
        "library(MASS)"
      ],
      "metadata": {
        "id": "8tTTLDBg8AMH"
      },
      "execution_count": null,
      "outputs": []
    },
    {
      "cell_type": "code",
      "source": [
        "# create factor data for class column\n",
        "datasvm <- leukemiaData\n",
        "datasvm$Class <- factor(datasvm$Class)\n",
        "head(datasvm)"
      ],
      "metadata": {
        "colab": {
          "base_uri": "https://localhost:8080/",
          "height": 286
        },
        "id": "Qx3XtHUeDfND",
        "outputId": "cb9e4ff9-3399-4375-90cf-17c63a50cc75"
      },
      "execution_count": null,
      "outputs": [
        {
          "output_type": "display_data",
          "data": {
            "text/html": [
              "<table class=\"dataframe\">\n",
              "<caption>A data.frame: 6 × 15</caption>\n",
              "<thead>\n",
              "\t<tr><th></th><th scope=col>g1</th><th scope=col>g2</th><th scope=col>g3</th><th scope=col>g4</th><th scope=col>g5</th><th scope=col>g6</th><th scope=col>g7</th><th scope=col>g8</th><th scope=col>g9</th><th scope=col>g10</th><th scope=col>g11</th><th scope=col>g12</th><th scope=col>g13</th><th scope=col>g14</th><th scope=col>Class</th></tr>\n",
              "\t<tr><th></th><th scope=col>&lt;dbl&gt;</th><th scope=col>&lt;dbl&gt;</th><th scope=col>&lt;dbl&gt;</th><th scope=col>&lt;dbl&gt;</th><th scope=col>&lt;dbl&gt;</th><th scope=col>&lt;dbl&gt;</th><th scope=col>&lt;dbl&gt;</th><th scope=col>&lt;dbl&gt;</th><th scope=col>&lt;dbl&gt;</th><th scope=col>&lt;dbl&gt;</th><th scope=col>&lt;dbl&gt;</th><th scope=col>&lt;dbl&gt;</th><th scope=col>&lt;dbl&gt;</th><th scope=col>&lt;dbl&gt;</th><th scope=col>&lt;fct&gt;</th></tr>\n",
              "</thead>\n",
              "<tbody>\n",
              "\t<tr><th scope=row>1</th><td>-161.8</td><td>  34.8</td><td>-34.4</td><td>179.1</td><td>41796.7</td><td>115.6</td><td> -90.9</td><td>58786.1</td><td>33123.1</td><td>-161.1</td><td>224.8</td><td>543.4</td><td> 553.3</td><td>258.5</td><td>ALL</td></tr>\n",
              "\t<tr><th scope=row>2</th><td>-231.0</td><td>-102.0</td><td>-31.0</td><td> 61.0</td><td> 8931.0</td><td>159.0</td><td> -71.0</td><td>11987.0</td><td>30918.0</td><td>-293.0</td><td> 28.0</td><td>977.0</td><td>3849.0</td><td>375.0</td><td>ALL</td></tr>\n",
              "\t<tr><th scope=row>3</th><td>-279.0</td><td>  91.0</td><td>-30.0</td><td>148.0</td><td>13966.0</td><td> -3.0</td><td> -86.0</td><td>33933.0</td><td>36121.0</td><td>-186.0</td><td> 34.0</td><td>118.0</td><td> 678.0</td><td>203.0</td><td>ALL</td></tr>\n",
              "\t<tr><th scope=row>4</th><td> -20.0</td><td> 115.0</td><td>-10.0</td><td> 29.0</td><td>12994.0</td><td>181.0</td><td>-136.0</td><td>12087.0</td><td>35378.0</td><td>-214.0</td><td> 39.0</td><td> 38.0</td><td> 999.0</td><td>  9.0</td><td>ALL</td></tr>\n",
              "\t<tr><th scope=row>5</th><td>-268.0</td><td> 128.0</td><td> 80.0</td><td>337.0</td><td>10895.0</td><td>146.0</td><td> -96.0</td><td>23603.0</td><td>40302.0</td><td>-216.0</td><td>155.0</td><td>609.0</td><td>1005.0</td><td>385.0</td><td>ALL</td></tr>\n",
              "\t<tr><th scope=row>6</th><td>-370.0</td><td>  10.0</td><td> 22.0</td><td>153.0</td><td>15493.0</td><td> 84.0</td><td>-117.0</td><td>16300.0</td><td>40460.0</td><td>-310.0</td><td>173.0</td><td>653.0</td><td>3293.0</td><td>475.0</td><td>ALL</td></tr>\n",
              "</tbody>\n",
              "</table>\n"
            ],
            "text/markdown": "\nA data.frame: 6 × 15\n\n| <!--/--> | g1 &lt;dbl&gt; | g2 &lt;dbl&gt; | g3 &lt;dbl&gt; | g4 &lt;dbl&gt; | g5 &lt;dbl&gt; | g6 &lt;dbl&gt; | g7 &lt;dbl&gt; | g8 &lt;dbl&gt; | g9 &lt;dbl&gt; | g10 &lt;dbl&gt; | g11 &lt;dbl&gt; | g12 &lt;dbl&gt; | g13 &lt;dbl&gt; | g14 &lt;dbl&gt; | Class &lt;fct&gt; |\n|---|---|---|---|---|---|---|---|---|---|---|---|---|---|---|---|\n| 1 | -161.8 |   34.8 | -34.4 | 179.1 | 41796.7 | 115.6 |  -90.9 | 58786.1 | 33123.1 | -161.1 | 224.8 | 543.4 |  553.3 | 258.5 | ALL |\n| 2 | -231.0 | -102.0 | -31.0 |  61.0 |  8931.0 | 159.0 |  -71.0 | 11987.0 | 30918.0 | -293.0 |  28.0 | 977.0 | 3849.0 | 375.0 | ALL |\n| 3 | -279.0 |   91.0 | -30.0 | 148.0 | 13966.0 |  -3.0 |  -86.0 | 33933.0 | 36121.0 | -186.0 |  34.0 | 118.0 |  678.0 | 203.0 | ALL |\n| 4 |  -20.0 |  115.0 | -10.0 |  29.0 | 12994.0 | 181.0 | -136.0 | 12087.0 | 35378.0 | -214.0 |  39.0 |  38.0 |  999.0 |   9.0 | ALL |\n| 5 | -268.0 |  128.0 |  80.0 | 337.0 | 10895.0 | 146.0 |  -96.0 | 23603.0 | 40302.0 | -216.0 | 155.0 | 609.0 | 1005.0 | 385.0 | ALL |\n| 6 | -370.0 |   10.0 |  22.0 | 153.0 | 15493.0 |  84.0 | -117.0 | 16300.0 | 40460.0 | -310.0 | 173.0 | 653.0 | 3293.0 | 475.0 | ALL |\n\n",
            "text/latex": "A data.frame: 6 × 15\n\\begin{tabular}{r|lllllllllllllll}\n  & g1 & g2 & g3 & g4 & g5 & g6 & g7 & g8 & g9 & g10 & g11 & g12 & g13 & g14 & Class\\\\\n  & <dbl> & <dbl> & <dbl> & <dbl> & <dbl> & <dbl> & <dbl> & <dbl> & <dbl> & <dbl> & <dbl> & <dbl> & <dbl> & <dbl> & <fct>\\\\\n\\hline\n\t1 & -161.8 &   34.8 & -34.4 & 179.1 & 41796.7 & 115.6 &  -90.9 & 58786.1 & 33123.1 & -161.1 & 224.8 & 543.4 &  553.3 & 258.5 & ALL\\\\\n\t2 & -231.0 & -102.0 & -31.0 &  61.0 &  8931.0 & 159.0 &  -71.0 & 11987.0 & 30918.0 & -293.0 &  28.0 & 977.0 & 3849.0 & 375.0 & ALL\\\\\n\t3 & -279.0 &   91.0 & -30.0 & 148.0 & 13966.0 &  -3.0 &  -86.0 & 33933.0 & 36121.0 & -186.0 &  34.0 & 118.0 &  678.0 & 203.0 & ALL\\\\\n\t4 &  -20.0 &  115.0 & -10.0 &  29.0 & 12994.0 & 181.0 & -136.0 & 12087.0 & 35378.0 & -214.0 &  39.0 &  38.0 &  999.0 &   9.0 & ALL\\\\\n\t5 & -268.0 &  128.0 &  80.0 & 337.0 & 10895.0 & 146.0 &  -96.0 & 23603.0 & 40302.0 & -216.0 & 155.0 & 609.0 & 1005.0 & 385.0 & ALL\\\\\n\t6 & -370.0 &   10.0 &  22.0 & 153.0 & 15493.0 &  84.0 & -117.0 & 16300.0 & 40460.0 & -310.0 & 173.0 & 653.0 & 3293.0 & 475.0 & ALL\\\\\n\\end{tabular}\n",
            "text/plain": [
              "  g1     g2     g3    g4    g5      g6    g7     g8      g9      g10    g11  \n",
              "1 -161.8   34.8 -34.4 179.1 41796.7 115.6  -90.9 58786.1 33123.1 -161.1 224.8\n",
              "2 -231.0 -102.0 -31.0  61.0  8931.0 159.0  -71.0 11987.0 30918.0 -293.0  28.0\n",
              "3 -279.0   91.0 -30.0 148.0 13966.0  -3.0  -86.0 33933.0 36121.0 -186.0  34.0\n",
              "4  -20.0  115.0 -10.0  29.0 12994.0 181.0 -136.0 12087.0 35378.0 -214.0  39.0\n",
              "5 -268.0  128.0  80.0 337.0 10895.0 146.0  -96.0 23603.0 40302.0 -216.0 155.0\n",
              "6 -370.0   10.0  22.0 153.0 15493.0  84.0 -117.0 16300.0 40460.0 -310.0 173.0\n",
              "  g12   g13    g14   Class\n",
              "1 543.4  553.3 258.5 ALL  \n",
              "2 977.0 3849.0 375.0 ALL  \n",
              "3 118.0  678.0 203.0 ALL  \n",
              "4  38.0  999.0   9.0 ALL  \n",
              "5 609.0 1005.0 385.0 ALL  \n",
              "6 653.0 3293.0 475.0 ALL  "
            ]
          },
          "metadata": {}
        }
      ]
    },
    {
      "cell_type": "code",
      "source": [
        "#Spliting data 30% as test / 70% as training\n",
        "set.seed(6536115)\n",
        "ind <- sample(2, nrow(datasvm), replace = TRUE, prob = c(0.7, 0.3))\n",
        "trainData <- datasvm[ind == 1, ]\n",
        "testData <- datasvm[ind == 2, ]\n",
        "head(trainData)"
      ],
      "metadata": {
        "colab": {
          "base_uri": "https://localhost:8080/",
          "height": 286
        },
        "id": "7hXByRh5-4P8",
        "outputId": "8bc8b39d-33d6-4efe-b52b-5ffefb6bbcbb"
      },
      "execution_count": null,
      "outputs": [
        {
          "output_type": "display_data",
          "data": {
            "text/html": [
              "<table class=\"dataframe\">\n",
              "<caption>A data.frame: 6 × 15</caption>\n",
              "<thead>\n",
              "\t<tr><th></th><th scope=col>g1</th><th scope=col>g2</th><th scope=col>g3</th><th scope=col>g4</th><th scope=col>g5</th><th scope=col>g6</th><th scope=col>g7</th><th scope=col>g8</th><th scope=col>g9</th><th scope=col>g10</th><th scope=col>g11</th><th scope=col>g12</th><th scope=col>g13</th><th scope=col>g14</th><th scope=col>Class</th></tr>\n",
              "\t<tr><th></th><th scope=col>&lt;dbl&gt;</th><th scope=col>&lt;dbl&gt;</th><th scope=col>&lt;dbl&gt;</th><th scope=col>&lt;dbl&gt;</th><th scope=col>&lt;dbl&gt;</th><th scope=col>&lt;dbl&gt;</th><th scope=col>&lt;dbl&gt;</th><th scope=col>&lt;dbl&gt;</th><th scope=col>&lt;dbl&gt;</th><th scope=col>&lt;dbl&gt;</th><th scope=col>&lt;dbl&gt;</th><th scope=col>&lt;dbl&gt;</th><th scope=col>&lt;dbl&gt;</th><th scope=col>&lt;dbl&gt;</th><th scope=col>&lt;fct&gt;</th></tr>\n",
              "</thead>\n",
              "<tbody>\n",
              "\t<tr><th scope=row>3</th><td>-279</td><td> 91</td><td>-30</td><td>148</td><td>13966</td><td> -3</td><td> -86</td><td>33933</td><td>36121</td><td>-186</td><td> 34</td><td>118</td><td> 678</td><td> 203</td><td>ALL</td></tr>\n",
              "\t<tr><th scope=row>4</th><td> -20</td><td>115</td><td>-10</td><td> 29</td><td>12994</td><td>181</td><td>-136</td><td>12087</td><td>35378</td><td>-214</td><td> 39</td><td> 38</td><td> 999</td><td>   9</td><td>ALL</td></tr>\n",
              "\t<tr><th scope=row>5</th><td>-268</td><td>128</td><td> 80</td><td>337</td><td>10895</td><td>146</td><td> -96</td><td>23603</td><td>40302</td><td>-216</td><td>155</td><td>609</td><td>1005</td><td> 385</td><td>ALL</td></tr>\n",
              "\t<tr><th scope=row>6</th><td>-370</td><td> 10</td><td> 22</td><td>153</td><td>15493</td><td> 84</td><td>-117</td><td>16300</td><td>40460</td><td>-310</td><td>173</td><td>653</td><td>3293</td><td> 475</td><td>ALL</td></tr>\n",
              "\t<tr><th scope=row>10</th><td>-377</td><td>270</td><td> 52</td><td>195</td><td>13842</td><td>277</td><td>-156</td><td>11288</td><td>36384</td><td>-259</td><td>195</td><td>841</td><td>3561</td><td> 954</td><td>ALL</td></tr>\n",
              "\t<tr><th scope=row>11</th><td>-479</td><td>187</td><td> 41</td><td>191</td><td> 3998</td><td> 88</td><td>-191</td><td>13944</td><td>32759</td><td>-308</td><td>153</td><td>349</td><td> 257</td><td>-196</td><td>ALL</td></tr>\n",
              "</tbody>\n",
              "</table>\n"
            ],
            "text/markdown": "\nA data.frame: 6 × 15\n\n| <!--/--> | g1 &lt;dbl&gt; | g2 &lt;dbl&gt; | g3 &lt;dbl&gt; | g4 &lt;dbl&gt; | g5 &lt;dbl&gt; | g6 &lt;dbl&gt; | g7 &lt;dbl&gt; | g8 &lt;dbl&gt; | g9 &lt;dbl&gt; | g10 &lt;dbl&gt; | g11 &lt;dbl&gt; | g12 &lt;dbl&gt; | g13 &lt;dbl&gt; | g14 &lt;dbl&gt; | Class &lt;fct&gt; |\n|---|---|---|---|---|---|---|---|---|---|---|---|---|---|---|---|\n| 3 | -279 |  91 | -30 | 148 | 13966 |  -3 |  -86 | 33933 | 36121 | -186 |  34 | 118 |  678 |  203 | ALL |\n| 4 |  -20 | 115 | -10 |  29 | 12994 | 181 | -136 | 12087 | 35378 | -214 |  39 |  38 |  999 |    9 | ALL |\n| 5 | -268 | 128 |  80 | 337 | 10895 | 146 |  -96 | 23603 | 40302 | -216 | 155 | 609 | 1005 |  385 | ALL |\n| 6 | -370 |  10 |  22 | 153 | 15493 |  84 | -117 | 16300 | 40460 | -310 | 173 | 653 | 3293 |  475 | ALL |\n| 10 | -377 | 270 |  52 | 195 | 13842 | 277 | -156 | 11288 | 36384 | -259 | 195 | 841 | 3561 |  954 | ALL |\n| 11 | -479 | 187 |  41 | 191 |  3998 |  88 | -191 | 13944 | 32759 | -308 | 153 | 349 |  257 | -196 | ALL |\n\n",
            "text/latex": "A data.frame: 6 × 15\n\\begin{tabular}{r|lllllllllllllll}\n  & g1 & g2 & g3 & g4 & g5 & g6 & g7 & g8 & g9 & g10 & g11 & g12 & g13 & g14 & Class\\\\\n  & <dbl> & <dbl> & <dbl> & <dbl> & <dbl> & <dbl> & <dbl> & <dbl> & <dbl> & <dbl> & <dbl> & <dbl> & <dbl> & <dbl> & <fct>\\\\\n\\hline\n\t3 & -279 &  91 & -30 & 148 & 13966 &  -3 &  -86 & 33933 & 36121 & -186 &  34 & 118 &  678 &  203 & ALL\\\\\n\t4 &  -20 & 115 & -10 &  29 & 12994 & 181 & -136 & 12087 & 35378 & -214 &  39 &  38 &  999 &    9 & ALL\\\\\n\t5 & -268 & 128 &  80 & 337 & 10895 & 146 &  -96 & 23603 & 40302 & -216 & 155 & 609 & 1005 &  385 & ALL\\\\\n\t6 & -370 &  10 &  22 & 153 & 15493 &  84 & -117 & 16300 & 40460 & -310 & 173 & 653 & 3293 &  475 & ALL\\\\\n\t10 & -377 & 270 &  52 & 195 & 13842 & 277 & -156 & 11288 & 36384 & -259 & 195 & 841 & 3561 &  954 & ALL\\\\\n\t11 & -479 & 187 &  41 & 191 &  3998 &  88 & -191 & 13944 & 32759 & -308 & 153 & 349 &  257 & -196 & ALL\\\\\n\\end{tabular}\n",
            "text/plain": [
              "   g1   g2  g3  g4  g5    g6  g7   g8    g9    g10  g11 g12 g13  g14  Class\n",
              "3  -279  91 -30 148 13966  -3  -86 33933 36121 -186  34 118  678  203 ALL  \n",
              "4   -20 115 -10  29 12994 181 -136 12087 35378 -214  39  38  999    9 ALL  \n",
              "5  -268 128  80 337 10895 146  -96 23603 40302 -216 155 609 1005  385 ALL  \n",
              "6  -370  10  22 153 15493  84 -117 16300 40460 -310 173 653 3293  475 ALL  \n",
              "10 -377 270  52 195 13842 277 -156 11288 36384 -259 195 841 3561  954 ALL  \n",
              "11 -479 187  41 191  3998  88 -191 13944 32759 -308 153 349  257 -196 ALL  "
            ]
          },
          "metadata": {}
        }
      ]
    },
    {
      "cell_type": "code",
      "source": [
        "#tuning find best gamma and cost\n",
        "library(e1071)\n",
        "tune <- tune.svm(Class ~ ., data = trainData, gamma = 10^(-6:-1), cost = 10^(1:6))\n",
        "summary(tune)"
      ],
      "metadata": {
        "colab": {
          "base_uri": "https://localhost:8080/",
          "height": 868
        },
        "id": "vvPRA6GO_lPN",
        "outputId": "8ffe4b90-d009-4e0c-d0a8-d08db34b180e"
      },
      "execution_count": null,
      "outputs": [
        {
          "output_type": "display_data",
          "data": {
            "text/plain": [
              "\n",
              "Parameter tuning of ‘svm’:\n",
              "\n",
              "- sampling method: 10-fold cross validation \n",
              "\n",
              "- best parameters:\n",
              " gamma cost\n",
              "  0.01  100\n",
              "\n",
              "- best performance: 0.25 \n",
              "\n",
              "- Detailed performance results:\n",
              "   gamma  cost error dispersion\n",
              "1  1e-06 1e+01 0.700  0.4048319\n",
              "2  1e-05 1e+01 0.700  0.4048319\n",
              "3  1e-04 1e+01 0.700  0.4048319\n",
              "4  1e-03 1e+01 0.400  0.2415229\n",
              "5  1e-02 1e+01 0.400  0.2415229\n",
              "6  1e-01 1e+01 0.325  0.2648375\n",
              "7  1e-06 1e+02 0.700  0.4048319\n",
              "8  1e-05 1e+02 0.700  0.4048319\n",
              "9  1e-04 1e+02 0.400  0.2415229\n",
              "10 1e-03 1e+02 0.375  0.2429563\n",
              "11 1e-02 1e+02 0.250  0.1666667\n",
              "12 1e-01 1e+02 0.325  0.2648375\n",
              "13 1e-06 1e+03 0.700  0.4048319\n",
              "14 1e-05 1e+03 0.400  0.2415229\n",
              "15 1e-04 1e+03 0.375  0.2429563\n",
              "16 1e-03 1e+03 0.275  0.1844662\n",
              "17 1e-02 1e+03 0.250  0.1666667\n",
              "18 1e-01 1e+03 0.325  0.2648375\n",
              "19 1e-06 1e+04 0.400  0.2415229\n",
              "20 1e-05 1e+04 0.375  0.2429563\n",
              "21 1e-04 1e+04 0.300  0.1581139\n",
              "22 1e-03 1e+04 0.275  0.1844662\n",
              "23 1e-02 1e+04 0.250  0.1666667\n",
              "24 1e-01 1e+04 0.325  0.2648375\n",
              "25 1e-06 1e+05 0.375  0.2429563\n",
              "26 1e-05 1e+05 0.300  0.1581139\n",
              "27 1e-04 1e+05 0.275  0.1844662\n",
              "28 1e-03 1e+05 0.275  0.1844662\n",
              "29 1e-02 1e+05 0.250  0.1666667\n",
              "30 1e-01 1e+05 0.325  0.2648375\n",
              "31 1e-06 1e+06 0.300  0.1581139\n",
              "32 1e-05 1e+06 0.275  0.1844662\n",
              "33 1e-04 1e+06 0.275  0.1844662\n",
              "34 1e-03 1e+06 0.275  0.1844662\n",
              "35 1e-02 1e+06 0.250  0.1666667\n",
              "36 1e-01 1e+06 0.325  0.2648375\n"
            ]
          },
          "metadata": {}
        }
      ]
    },
    {
      "cell_type": "code",
      "source": [
        "# create model using gamma = 0.01 and cost = 100 from tune summary\n",
        "model <- svm(Class ~ .,\n",
        "    data = trainData, method = \"C-classification\", kernel = \"linear\", probability = T,\n",
        "    gamma = 0.01, cost = 100\n",
        ")\n",
        "# print(model)"
      ],
      "metadata": {
        "id": "YRnM3KgE_9qu"
      },
      "execution_count": null,
      "outputs": []
    },
    {
      "cell_type": "code",
      "source": [
        "#prediction using test data\n",
        "prediction <- predict(model, testData, probability = T)\n",
        "table(prediction, testData$Class)\n",
        "# plot(model, datasvm)"
      ],
      "metadata": {
        "colab": {
          "base_uri": "https://localhost:8080/",
          "height": 104
        },
        "id": "LYehCem5AIOG",
        "outputId": "b4ea4d95-8619-4ac7-8ce9-d384fd8cde50"
      },
      "execution_count": null,
      "outputs": [
        {
          "output_type": "display_data",
          "data": {
            "text/plain": [
              "          \n",
              "prediction ALL AML MLL\n",
              "       ALL   4   2   1\n",
              "       AML   1   2   0\n",
              "       MLL   3   2   2"
            ]
          },
          "metadata": {}
        }
      ]
    },
    {
      "cell_type": "code",
      "source": [
        "# install.packages('caret')\n",
        "# install.packages('lattice')\n",
        "# install.packages('ggplot2')\n",
        "library(caret)\n",
        "library(lattice)\n",
        "library(ggplot2)"
      ],
      "metadata": {
        "id": "h9qExZ69Ch-6"
      },
      "execution_count": null,
      "outputs": []
    },
    {
      "cell_type": "code",
      "source": [
        "xtab <- table(factor(prediction), factor(testData$Class))\n",
        "resultSVM <- confusionMatrix(xtab)\n",
        "resultSVM"
      ],
      "metadata": {
        "colab": {
          "base_uri": "https://localhost:8080/",
          "height": 538
        },
        "id": "I0BW6J2VCnrL",
        "outputId": "8f09e18c-babd-4188-f1b7-cb7e0f1b2189"
      },
      "execution_count": null,
      "outputs": [
        {
          "output_type": "display_data",
          "data": {
            "text/plain": [
              "Confusion Matrix and Statistics\n",
              "\n",
              "     \n",
              "      ALL AML MLL\n",
              "  ALL   4   2   1\n",
              "  AML   1   2   0\n",
              "  MLL   3   2   2\n",
              "\n",
              "Overall Statistics\n",
              "                                          \n",
              "               Accuracy : 0.4706          \n",
              "                 95% CI : (0.2298, 0.7219)\n",
              "    No Information Rate : 0.4706          \n",
              "    P-Value [Acc > NIR] : 0.5937          \n",
              "                                          \n",
              "                  Kappa : 0.2113          \n",
              "                                          \n",
              " Mcnemar's Test P-Value : 0.3430          \n",
              "\n",
              "Statistics by Class:\n",
              "\n",
              "                     Class: ALL Class: AML Class: MLL\n",
              "Sensitivity              0.5000     0.3333     0.6667\n",
              "Specificity              0.6667     0.9091     0.6429\n",
              "Pos Pred Value           0.5714     0.6667     0.2857\n",
              "Neg Pred Value           0.6000     0.7143     0.9000\n",
              "Prevalence               0.4706     0.3529     0.1765\n",
              "Detection Rate           0.2353     0.1176     0.1176\n",
              "Detection Prevalence     0.4118     0.1765     0.4118\n",
              "Balanced Accuracy        0.5833     0.6212     0.6548"
            ]
          },
          "metadata": {}
        }
      ]
    },
    {
      "cell_type": "markdown",
      "source": [
        "###### Neural network"
      ],
      "metadata": {
        "id": "GI47dhKOC9k5"
      }
    },
    {
      "cell_type": "code",
      "source": [
        "# install.packages('neuralnet')\n",
        "library(neuralnet)"
      ],
      "metadata": {
        "id": "gbetCwyeC9MD"
      },
      "execution_count": null,
      "outputs": []
    },
    {
      "cell_type": "code",
      "source": [
        "# create factor data for class column\n",
        "leukemiaDataNN <- leukemiaData\n",
        "leukemiaDataNN$Class <- factor(leukemiaDataNN$Class)\n",
        "head(leukemiaDataNN)"
      ],
      "metadata": {
        "colab": {
          "base_uri": "https://localhost:8080/",
          "height": 286
        },
        "id": "g6DaTweJDJVz",
        "outputId": "14efc52a-40ee-4b77-e681-82b3441a08a8"
      },
      "execution_count": null,
      "outputs": [
        {
          "output_type": "display_data",
          "data": {
            "text/html": [
              "<table class=\"dataframe\">\n",
              "<caption>A data.frame: 6 × 15</caption>\n",
              "<thead>\n",
              "\t<tr><th></th><th scope=col>g1</th><th scope=col>g2</th><th scope=col>g3</th><th scope=col>g4</th><th scope=col>g5</th><th scope=col>g6</th><th scope=col>g7</th><th scope=col>g8</th><th scope=col>g9</th><th scope=col>g10</th><th scope=col>g11</th><th scope=col>g12</th><th scope=col>g13</th><th scope=col>g14</th><th scope=col>Class</th></tr>\n",
              "\t<tr><th></th><th scope=col>&lt;dbl&gt;</th><th scope=col>&lt;dbl&gt;</th><th scope=col>&lt;dbl&gt;</th><th scope=col>&lt;dbl&gt;</th><th scope=col>&lt;dbl&gt;</th><th scope=col>&lt;dbl&gt;</th><th scope=col>&lt;dbl&gt;</th><th scope=col>&lt;dbl&gt;</th><th scope=col>&lt;dbl&gt;</th><th scope=col>&lt;dbl&gt;</th><th scope=col>&lt;dbl&gt;</th><th scope=col>&lt;dbl&gt;</th><th scope=col>&lt;dbl&gt;</th><th scope=col>&lt;dbl&gt;</th><th scope=col>&lt;fct&gt;</th></tr>\n",
              "</thead>\n",
              "<tbody>\n",
              "\t<tr><th scope=row>1</th><td>-161.8</td><td>  34.8</td><td>-34.4</td><td>179.1</td><td>41796.7</td><td>115.6</td><td> -90.9</td><td>58786.1</td><td>33123.1</td><td>-161.1</td><td>224.8</td><td>543.4</td><td> 553.3</td><td>258.5</td><td>ALL</td></tr>\n",
              "\t<tr><th scope=row>2</th><td>-231.0</td><td>-102.0</td><td>-31.0</td><td> 61.0</td><td> 8931.0</td><td>159.0</td><td> -71.0</td><td>11987.0</td><td>30918.0</td><td>-293.0</td><td> 28.0</td><td>977.0</td><td>3849.0</td><td>375.0</td><td>ALL</td></tr>\n",
              "\t<tr><th scope=row>3</th><td>-279.0</td><td>  91.0</td><td>-30.0</td><td>148.0</td><td>13966.0</td><td> -3.0</td><td> -86.0</td><td>33933.0</td><td>36121.0</td><td>-186.0</td><td> 34.0</td><td>118.0</td><td> 678.0</td><td>203.0</td><td>ALL</td></tr>\n",
              "\t<tr><th scope=row>4</th><td> -20.0</td><td> 115.0</td><td>-10.0</td><td> 29.0</td><td>12994.0</td><td>181.0</td><td>-136.0</td><td>12087.0</td><td>35378.0</td><td>-214.0</td><td> 39.0</td><td> 38.0</td><td> 999.0</td><td>  9.0</td><td>ALL</td></tr>\n",
              "\t<tr><th scope=row>5</th><td>-268.0</td><td> 128.0</td><td> 80.0</td><td>337.0</td><td>10895.0</td><td>146.0</td><td> -96.0</td><td>23603.0</td><td>40302.0</td><td>-216.0</td><td>155.0</td><td>609.0</td><td>1005.0</td><td>385.0</td><td>ALL</td></tr>\n",
              "\t<tr><th scope=row>6</th><td>-370.0</td><td>  10.0</td><td> 22.0</td><td>153.0</td><td>15493.0</td><td> 84.0</td><td>-117.0</td><td>16300.0</td><td>40460.0</td><td>-310.0</td><td>173.0</td><td>653.0</td><td>3293.0</td><td>475.0</td><td>ALL</td></tr>\n",
              "</tbody>\n",
              "</table>\n"
            ],
            "text/markdown": "\nA data.frame: 6 × 15\n\n| <!--/--> | g1 &lt;dbl&gt; | g2 &lt;dbl&gt; | g3 &lt;dbl&gt; | g4 &lt;dbl&gt; | g5 &lt;dbl&gt; | g6 &lt;dbl&gt; | g7 &lt;dbl&gt; | g8 &lt;dbl&gt; | g9 &lt;dbl&gt; | g10 &lt;dbl&gt; | g11 &lt;dbl&gt; | g12 &lt;dbl&gt; | g13 &lt;dbl&gt; | g14 &lt;dbl&gt; | Class &lt;fct&gt; |\n|---|---|---|---|---|---|---|---|---|---|---|---|---|---|---|---|\n| 1 | -161.8 |   34.8 | -34.4 | 179.1 | 41796.7 | 115.6 |  -90.9 | 58786.1 | 33123.1 | -161.1 | 224.8 | 543.4 |  553.3 | 258.5 | ALL |\n| 2 | -231.0 | -102.0 | -31.0 |  61.0 |  8931.0 | 159.0 |  -71.0 | 11987.0 | 30918.0 | -293.0 |  28.0 | 977.0 | 3849.0 | 375.0 | ALL |\n| 3 | -279.0 |   91.0 | -30.0 | 148.0 | 13966.0 |  -3.0 |  -86.0 | 33933.0 | 36121.0 | -186.0 |  34.0 | 118.0 |  678.0 | 203.0 | ALL |\n| 4 |  -20.0 |  115.0 | -10.0 |  29.0 | 12994.0 | 181.0 | -136.0 | 12087.0 | 35378.0 | -214.0 |  39.0 |  38.0 |  999.0 |   9.0 | ALL |\n| 5 | -268.0 |  128.0 |  80.0 | 337.0 | 10895.0 | 146.0 |  -96.0 | 23603.0 | 40302.0 | -216.0 | 155.0 | 609.0 | 1005.0 | 385.0 | ALL |\n| 6 | -370.0 |   10.0 |  22.0 | 153.0 | 15493.0 |  84.0 | -117.0 | 16300.0 | 40460.0 | -310.0 | 173.0 | 653.0 | 3293.0 | 475.0 | ALL |\n\n",
            "text/latex": "A data.frame: 6 × 15\n\\begin{tabular}{r|lllllllllllllll}\n  & g1 & g2 & g3 & g4 & g5 & g6 & g7 & g8 & g9 & g10 & g11 & g12 & g13 & g14 & Class\\\\\n  & <dbl> & <dbl> & <dbl> & <dbl> & <dbl> & <dbl> & <dbl> & <dbl> & <dbl> & <dbl> & <dbl> & <dbl> & <dbl> & <dbl> & <fct>\\\\\n\\hline\n\t1 & -161.8 &   34.8 & -34.4 & 179.1 & 41796.7 & 115.6 &  -90.9 & 58786.1 & 33123.1 & -161.1 & 224.8 & 543.4 &  553.3 & 258.5 & ALL\\\\\n\t2 & -231.0 & -102.0 & -31.0 &  61.0 &  8931.0 & 159.0 &  -71.0 & 11987.0 & 30918.0 & -293.0 &  28.0 & 977.0 & 3849.0 & 375.0 & ALL\\\\\n\t3 & -279.0 &   91.0 & -30.0 & 148.0 & 13966.0 &  -3.0 &  -86.0 & 33933.0 & 36121.0 & -186.0 &  34.0 & 118.0 &  678.0 & 203.0 & ALL\\\\\n\t4 &  -20.0 &  115.0 & -10.0 &  29.0 & 12994.0 & 181.0 & -136.0 & 12087.0 & 35378.0 & -214.0 &  39.0 &  38.0 &  999.0 &   9.0 & ALL\\\\\n\t5 & -268.0 &  128.0 &  80.0 & 337.0 & 10895.0 & 146.0 &  -96.0 & 23603.0 & 40302.0 & -216.0 & 155.0 & 609.0 & 1005.0 & 385.0 & ALL\\\\\n\t6 & -370.0 &   10.0 &  22.0 & 153.0 & 15493.0 &  84.0 & -117.0 & 16300.0 & 40460.0 & -310.0 & 173.0 & 653.0 & 3293.0 & 475.0 & ALL\\\\\n\\end{tabular}\n",
            "text/plain": [
              "  g1     g2     g3    g4    g5      g6    g7     g8      g9      g10    g11  \n",
              "1 -161.8   34.8 -34.4 179.1 41796.7 115.6  -90.9 58786.1 33123.1 -161.1 224.8\n",
              "2 -231.0 -102.0 -31.0  61.0  8931.0 159.0  -71.0 11987.0 30918.0 -293.0  28.0\n",
              "3 -279.0   91.0 -30.0 148.0 13966.0  -3.0  -86.0 33933.0 36121.0 -186.0  34.0\n",
              "4  -20.0  115.0 -10.0  29.0 12994.0 181.0 -136.0 12087.0 35378.0 -214.0  39.0\n",
              "5 -268.0  128.0  80.0 337.0 10895.0 146.0  -96.0 23603.0 40302.0 -216.0 155.0\n",
              "6 -370.0   10.0  22.0 153.0 15493.0  84.0 -117.0 16300.0 40460.0 -310.0 173.0\n",
              "  g12   g13    g14   Class\n",
              "1 543.4  553.3 258.5 ALL  \n",
              "2 977.0 3849.0 375.0 ALL  \n",
              "3 118.0  678.0 203.0 ALL  \n",
              "4  38.0  999.0   9.0 ALL  \n",
              "5 609.0 1005.0 385.0 ALL  \n",
              "6 653.0 3293.0 475.0 ALL  "
            ]
          },
          "metadata": {}
        }
      ]
    },
    {
      "cell_type": "code",
      "source": [
        "#Spliting data 30% as test / 70% as training\n",
        "set.seed(6536115)\n",
        "ind <- sample(2, nrow(leukemiaDataNN), replace=TRUE, prob=c(0.7, 0.3))\n",
        "trainData <- leukemiaDataNN[ind==1,]\n",
        "testData <- leukemiaDataNN[ind==2,]\n",
        "nnet_leukemaiTrain <- trainData\n",
        "head(nnet_leukemaiTrain)"
      ],
      "metadata": {
        "colab": {
          "base_uri": "https://localhost:8080/",
          "height": 286
        },
        "id": "rxg7SHuBFjub",
        "outputId": "9296718d-6e6e-462b-83db-735adadded00"
      },
      "execution_count": null,
      "outputs": [
        {
          "output_type": "display_data",
          "data": {
            "text/html": [
              "<table class=\"dataframe\">\n",
              "<caption>A data.frame: 6 × 15</caption>\n",
              "<thead>\n",
              "\t<tr><th></th><th scope=col>g1</th><th scope=col>g2</th><th scope=col>g3</th><th scope=col>g4</th><th scope=col>g5</th><th scope=col>g6</th><th scope=col>g7</th><th scope=col>g8</th><th scope=col>g9</th><th scope=col>g10</th><th scope=col>g11</th><th scope=col>g12</th><th scope=col>g13</th><th scope=col>g14</th><th scope=col>Class</th></tr>\n",
              "\t<tr><th></th><th scope=col>&lt;dbl&gt;</th><th scope=col>&lt;dbl&gt;</th><th scope=col>&lt;dbl&gt;</th><th scope=col>&lt;dbl&gt;</th><th scope=col>&lt;dbl&gt;</th><th scope=col>&lt;dbl&gt;</th><th scope=col>&lt;dbl&gt;</th><th scope=col>&lt;dbl&gt;</th><th scope=col>&lt;dbl&gt;</th><th scope=col>&lt;dbl&gt;</th><th scope=col>&lt;dbl&gt;</th><th scope=col>&lt;dbl&gt;</th><th scope=col>&lt;dbl&gt;</th><th scope=col>&lt;dbl&gt;</th><th scope=col>&lt;fct&gt;</th></tr>\n",
              "</thead>\n",
              "<tbody>\n",
              "\t<tr><th scope=row>3</th><td>-279</td><td> 91</td><td>-30</td><td>148</td><td>13966</td><td> -3</td><td> -86</td><td>33933</td><td>36121</td><td>-186</td><td> 34</td><td>118</td><td> 678</td><td> 203</td><td>ALL</td></tr>\n",
              "\t<tr><th scope=row>4</th><td> -20</td><td>115</td><td>-10</td><td> 29</td><td>12994</td><td>181</td><td>-136</td><td>12087</td><td>35378</td><td>-214</td><td> 39</td><td> 38</td><td> 999</td><td>   9</td><td>ALL</td></tr>\n",
              "\t<tr><th scope=row>5</th><td>-268</td><td>128</td><td> 80</td><td>337</td><td>10895</td><td>146</td><td> -96</td><td>23603</td><td>40302</td><td>-216</td><td>155</td><td>609</td><td>1005</td><td> 385</td><td>ALL</td></tr>\n",
              "\t<tr><th scope=row>6</th><td>-370</td><td> 10</td><td> 22</td><td>153</td><td>15493</td><td> 84</td><td>-117</td><td>16300</td><td>40460</td><td>-310</td><td>173</td><td>653</td><td>3293</td><td> 475</td><td>ALL</td></tr>\n",
              "\t<tr><th scope=row>10</th><td>-377</td><td>270</td><td> 52</td><td>195</td><td>13842</td><td>277</td><td>-156</td><td>11288</td><td>36384</td><td>-259</td><td>195</td><td>841</td><td>3561</td><td> 954</td><td>ALL</td></tr>\n",
              "\t<tr><th scope=row>11</th><td>-479</td><td>187</td><td> 41</td><td>191</td><td> 3998</td><td> 88</td><td>-191</td><td>13944</td><td>32759</td><td>-308</td><td>153</td><td>349</td><td> 257</td><td>-196</td><td>ALL</td></tr>\n",
              "</tbody>\n",
              "</table>\n"
            ],
            "text/markdown": "\nA data.frame: 6 × 15\n\n| <!--/--> | g1 &lt;dbl&gt; | g2 &lt;dbl&gt; | g3 &lt;dbl&gt; | g4 &lt;dbl&gt; | g5 &lt;dbl&gt; | g6 &lt;dbl&gt; | g7 &lt;dbl&gt; | g8 &lt;dbl&gt; | g9 &lt;dbl&gt; | g10 &lt;dbl&gt; | g11 &lt;dbl&gt; | g12 &lt;dbl&gt; | g13 &lt;dbl&gt; | g14 &lt;dbl&gt; | Class &lt;fct&gt; |\n|---|---|---|---|---|---|---|---|---|---|---|---|---|---|---|---|\n| 3 | -279 |  91 | -30 | 148 | 13966 |  -3 |  -86 | 33933 | 36121 | -186 |  34 | 118 |  678 |  203 | ALL |\n| 4 |  -20 | 115 | -10 |  29 | 12994 | 181 | -136 | 12087 | 35378 | -214 |  39 |  38 |  999 |    9 | ALL |\n| 5 | -268 | 128 |  80 | 337 | 10895 | 146 |  -96 | 23603 | 40302 | -216 | 155 | 609 | 1005 |  385 | ALL |\n| 6 | -370 |  10 |  22 | 153 | 15493 |  84 | -117 | 16300 | 40460 | -310 | 173 | 653 | 3293 |  475 | ALL |\n| 10 | -377 | 270 |  52 | 195 | 13842 | 277 | -156 | 11288 | 36384 | -259 | 195 | 841 | 3561 |  954 | ALL |\n| 11 | -479 | 187 |  41 | 191 |  3998 |  88 | -191 | 13944 | 32759 | -308 | 153 | 349 |  257 | -196 | ALL |\n\n",
            "text/latex": "A data.frame: 6 × 15\n\\begin{tabular}{r|lllllllllllllll}\n  & g1 & g2 & g3 & g4 & g5 & g6 & g7 & g8 & g9 & g10 & g11 & g12 & g13 & g14 & Class\\\\\n  & <dbl> & <dbl> & <dbl> & <dbl> & <dbl> & <dbl> & <dbl> & <dbl> & <dbl> & <dbl> & <dbl> & <dbl> & <dbl> & <dbl> & <fct>\\\\\n\\hline\n\t3 & -279 &  91 & -30 & 148 & 13966 &  -3 &  -86 & 33933 & 36121 & -186 &  34 & 118 &  678 &  203 & ALL\\\\\n\t4 &  -20 & 115 & -10 &  29 & 12994 & 181 & -136 & 12087 & 35378 & -214 &  39 &  38 &  999 &    9 & ALL\\\\\n\t5 & -268 & 128 &  80 & 337 & 10895 & 146 &  -96 & 23603 & 40302 & -216 & 155 & 609 & 1005 &  385 & ALL\\\\\n\t6 & -370 &  10 &  22 & 153 & 15493 &  84 & -117 & 16300 & 40460 & -310 & 173 & 653 & 3293 &  475 & ALL\\\\\n\t10 & -377 & 270 &  52 & 195 & 13842 & 277 & -156 & 11288 & 36384 & -259 & 195 & 841 & 3561 &  954 & ALL\\\\\n\t11 & -479 & 187 &  41 & 191 &  3998 &  88 & -191 & 13944 & 32759 & -308 & 153 & 349 &  257 & -196 & ALL\\\\\n\\end{tabular}\n",
            "text/plain": [
              "   g1   g2  g3  g4  g5    g6  g7   g8    g9    g10  g11 g12 g13  g14  Class\n",
              "3  -279  91 -30 148 13966  -3  -86 33933 36121 -186  34 118  678  203 ALL  \n",
              "4   -20 115 -10  29 12994 181 -136 12087 35378 -214  39  38  999    9 ALL  \n",
              "5  -268 128  80 337 10895 146  -96 23603 40302 -216 155 609 1005  385 ALL  \n",
              "6  -370  10  22 153 15493  84 -117 16300 40460 -310 173 653 3293  475 ALL  \n",
              "10 -377 270  52 195 13842 277 -156 11288 36384 -259 195 841 3561  954 ALL  \n",
              "11 -479 187  41 191  3998  88 -191 13944 32759 -308 153 349  257 -196 ALL  "
            ]
          },
          "metadata": {}
        }
      ]
    },
    {
      "cell_type": "code",
      "source": [
        "#name the categorical output\n",
        "nnet_leukemaiTrain <- cbind(nnet_leukemaiTrain, trainData$Class == \"ALL\")\n",
        "nnet_leukemaiTrain <- cbind(nnet_leukemaiTrain, trainData$Class == \"MLL\")\n",
        "nnet_leukemaiTrain <- cbind(nnet_leukemaiTrain, trainData$Class == \"AML\")\n",
        "names(nnet_leukemaiTrain)[16:18] <- c(\"ALL\",\"MLL\",\"AML\")\n",
        "head(nnet_leukemaiTrain)"
      ],
      "metadata": {
        "colab": {
          "base_uri": "https://localhost:8080/",
          "height": 286
        },
        "id": "Mje-O-KmF6SZ",
        "outputId": "cfb7667f-cb45-482b-9e79-d3bc7621a1ad"
      },
      "execution_count": null,
      "outputs": [
        {
          "output_type": "display_data",
          "data": {
            "text/html": [
              "<table class=\"dataframe\">\n",
              "<caption>A data.frame: 6 × 18</caption>\n",
              "<thead>\n",
              "\t<tr><th></th><th scope=col>g1</th><th scope=col>g2</th><th scope=col>g3</th><th scope=col>g4</th><th scope=col>g5</th><th scope=col>g6</th><th scope=col>g7</th><th scope=col>g8</th><th scope=col>g9</th><th scope=col>g10</th><th scope=col>g11</th><th scope=col>g12</th><th scope=col>g13</th><th scope=col>g14</th><th scope=col>Class</th><th scope=col>ALL</th><th scope=col>MLL</th><th scope=col>AML</th></tr>\n",
              "\t<tr><th></th><th scope=col>&lt;dbl&gt;</th><th scope=col>&lt;dbl&gt;</th><th scope=col>&lt;dbl&gt;</th><th scope=col>&lt;dbl&gt;</th><th scope=col>&lt;dbl&gt;</th><th scope=col>&lt;dbl&gt;</th><th scope=col>&lt;dbl&gt;</th><th scope=col>&lt;dbl&gt;</th><th scope=col>&lt;dbl&gt;</th><th scope=col>&lt;dbl&gt;</th><th scope=col>&lt;dbl&gt;</th><th scope=col>&lt;dbl&gt;</th><th scope=col>&lt;dbl&gt;</th><th scope=col>&lt;dbl&gt;</th><th scope=col>&lt;fct&gt;</th><th scope=col>&lt;lgl&gt;</th><th scope=col>&lt;lgl&gt;</th><th scope=col>&lt;lgl&gt;</th></tr>\n",
              "</thead>\n",
              "<tbody>\n",
              "\t<tr><th scope=row>3</th><td>-279</td><td> 91</td><td>-30</td><td>148</td><td>13966</td><td> -3</td><td> -86</td><td>33933</td><td>36121</td><td>-186</td><td> 34</td><td>118</td><td> 678</td><td> 203</td><td>ALL</td><td>TRUE</td><td>FALSE</td><td>FALSE</td></tr>\n",
              "\t<tr><th scope=row>4</th><td> -20</td><td>115</td><td>-10</td><td> 29</td><td>12994</td><td>181</td><td>-136</td><td>12087</td><td>35378</td><td>-214</td><td> 39</td><td> 38</td><td> 999</td><td>   9</td><td>ALL</td><td>TRUE</td><td>FALSE</td><td>FALSE</td></tr>\n",
              "\t<tr><th scope=row>5</th><td>-268</td><td>128</td><td> 80</td><td>337</td><td>10895</td><td>146</td><td> -96</td><td>23603</td><td>40302</td><td>-216</td><td>155</td><td>609</td><td>1005</td><td> 385</td><td>ALL</td><td>TRUE</td><td>FALSE</td><td>FALSE</td></tr>\n",
              "\t<tr><th scope=row>6</th><td>-370</td><td> 10</td><td> 22</td><td>153</td><td>15493</td><td> 84</td><td>-117</td><td>16300</td><td>40460</td><td>-310</td><td>173</td><td>653</td><td>3293</td><td> 475</td><td>ALL</td><td>TRUE</td><td>FALSE</td><td>FALSE</td></tr>\n",
              "\t<tr><th scope=row>10</th><td>-377</td><td>270</td><td> 52</td><td>195</td><td>13842</td><td>277</td><td>-156</td><td>11288</td><td>36384</td><td>-259</td><td>195</td><td>841</td><td>3561</td><td> 954</td><td>ALL</td><td>TRUE</td><td>FALSE</td><td>FALSE</td></tr>\n",
              "\t<tr><th scope=row>11</th><td>-479</td><td>187</td><td> 41</td><td>191</td><td> 3998</td><td> 88</td><td>-191</td><td>13944</td><td>32759</td><td>-308</td><td>153</td><td>349</td><td> 257</td><td>-196</td><td>ALL</td><td>TRUE</td><td>FALSE</td><td>FALSE</td></tr>\n",
              "</tbody>\n",
              "</table>\n"
            ],
            "text/markdown": "\nA data.frame: 6 × 18\n\n| <!--/--> | g1 &lt;dbl&gt; | g2 &lt;dbl&gt; | g3 &lt;dbl&gt; | g4 &lt;dbl&gt; | g5 &lt;dbl&gt; | g6 &lt;dbl&gt; | g7 &lt;dbl&gt; | g8 &lt;dbl&gt; | g9 &lt;dbl&gt; | g10 &lt;dbl&gt; | g11 &lt;dbl&gt; | g12 &lt;dbl&gt; | g13 &lt;dbl&gt; | g14 &lt;dbl&gt; | Class &lt;fct&gt; | ALL &lt;lgl&gt; | MLL &lt;lgl&gt; | AML &lt;lgl&gt; |\n|---|---|---|---|---|---|---|---|---|---|---|---|---|---|---|---|---|---|---|\n| 3 | -279 |  91 | -30 | 148 | 13966 |  -3 |  -86 | 33933 | 36121 | -186 |  34 | 118 |  678 |  203 | ALL | TRUE | FALSE | FALSE |\n| 4 |  -20 | 115 | -10 |  29 | 12994 | 181 | -136 | 12087 | 35378 | -214 |  39 |  38 |  999 |    9 | ALL | TRUE | FALSE | FALSE |\n| 5 | -268 | 128 |  80 | 337 | 10895 | 146 |  -96 | 23603 | 40302 | -216 | 155 | 609 | 1005 |  385 | ALL | TRUE | FALSE | FALSE |\n| 6 | -370 |  10 |  22 | 153 | 15493 |  84 | -117 | 16300 | 40460 | -310 | 173 | 653 | 3293 |  475 | ALL | TRUE | FALSE | FALSE |\n| 10 | -377 | 270 |  52 | 195 | 13842 | 277 | -156 | 11288 | 36384 | -259 | 195 | 841 | 3561 |  954 | ALL | TRUE | FALSE | FALSE |\n| 11 | -479 | 187 |  41 | 191 |  3998 |  88 | -191 | 13944 | 32759 | -308 | 153 | 349 |  257 | -196 | ALL | TRUE | FALSE | FALSE |\n\n",
            "text/latex": "A data.frame: 6 × 18\n\\begin{tabular}{r|llllllllllllllllll}\n  & g1 & g2 & g3 & g4 & g5 & g6 & g7 & g8 & g9 & g10 & g11 & g12 & g13 & g14 & Class & ALL & MLL & AML\\\\\n  & <dbl> & <dbl> & <dbl> & <dbl> & <dbl> & <dbl> & <dbl> & <dbl> & <dbl> & <dbl> & <dbl> & <dbl> & <dbl> & <dbl> & <fct> & <lgl> & <lgl> & <lgl>\\\\\n\\hline\n\t3 & -279 &  91 & -30 & 148 & 13966 &  -3 &  -86 & 33933 & 36121 & -186 &  34 & 118 &  678 &  203 & ALL & TRUE & FALSE & FALSE\\\\\n\t4 &  -20 & 115 & -10 &  29 & 12994 & 181 & -136 & 12087 & 35378 & -214 &  39 &  38 &  999 &    9 & ALL & TRUE & FALSE & FALSE\\\\\n\t5 & -268 & 128 &  80 & 337 & 10895 & 146 &  -96 & 23603 & 40302 & -216 & 155 & 609 & 1005 &  385 & ALL & TRUE & FALSE & FALSE\\\\\n\t6 & -370 &  10 &  22 & 153 & 15493 &  84 & -117 & 16300 & 40460 & -310 & 173 & 653 & 3293 &  475 & ALL & TRUE & FALSE & FALSE\\\\\n\t10 & -377 & 270 &  52 & 195 & 13842 & 277 & -156 & 11288 & 36384 & -259 & 195 & 841 & 3561 &  954 & ALL & TRUE & FALSE & FALSE\\\\\n\t11 & -479 & 187 &  41 & 191 &  3998 &  88 & -191 & 13944 & 32759 & -308 & 153 & 349 &  257 & -196 & ALL & TRUE & FALSE & FALSE\\\\\n\\end{tabular}\n",
            "text/plain": [
              "   g1   g2  g3  g4  g5    g6  g7   g8    g9    g10  g11 g12 g13  g14  Class\n",
              "3  -279  91 -30 148 13966  -3  -86 33933 36121 -186  34 118  678  203 ALL  \n",
              "4   -20 115 -10  29 12994 181 -136 12087 35378 -214  39  38  999    9 ALL  \n",
              "5  -268 128  80 337 10895 146  -96 23603 40302 -216 155 609 1005  385 ALL  \n",
              "6  -370  10  22 153 15493  84 -117 16300 40460 -310 173 653 3293  475 ALL  \n",
              "10 -377 270  52 195 13842 277 -156 11288 36384 -259 195 841 3561  954 ALL  \n",
              "11 -479 187  41 191  3998  88 -191 13944 32759 -308 153 349  257 -196 ALL  \n",
              "   ALL  MLL   AML  \n",
              "3  TRUE FALSE FALSE\n",
              "4  TRUE FALSE FALSE\n",
              "5  TRUE FALSE FALSE\n",
              "6  TRUE FALSE FALSE\n",
              "10 TRUE FALSE FALSE\n",
              "11 TRUE FALSE FALSE"
            ]
          },
          "metadata": {}
        }
      ]
    },
    {
      "cell_type": "code",
      "source": [
        "leukemia_list <- paste(c(colnames(trainData[1:14])),collapse = '+')\n",
        "leukemia_list\n",
        "leukemia_list <- paste(c(\"ALL+MLL+AML~\",leukemia_list),collapse = '')\n",
        "leukemia_list\n",
        "f <- formula(leukemia_list)\n",
        "f"
      ],
      "metadata": {
        "colab": {
          "base_uri": "https://localhost:8080/",
          "height": 86
        },
        "id": "qGkRI2KPHPfe",
        "outputId": "eb5c25b6-d1e1-433c-ad78-b816f75f28fa"
      },
      "execution_count": null,
      "outputs": [
        {
          "output_type": "display_data",
          "data": {
            "text/html": [
              "'g1+g2+g3+g4+g5+g6+g7+g8+g9+g10+g11+g12+g13+g14'"
            ],
            "text/markdown": "'g1+g2+g3+g4+g5+g6+g7+g8+g9+g10+g11+g12+g13+g14'",
            "text/latex": "'g1+g2+g3+g4+g5+g6+g7+g8+g9+g10+g11+g12+g13+g14'",
            "text/plain": [
              "[1] \"g1+g2+g3+g4+g5+g6+g7+g8+g9+g10+g11+g12+g13+g14\""
            ]
          },
          "metadata": {}
        },
        {
          "output_type": "display_data",
          "data": {
            "text/html": [
              "'ALL+MLL+AML~g1+g2+g3+g4+g5+g6+g7+g8+g9+g10+g11+g12+g13+g14'"
            ],
            "text/markdown": "'ALL+MLL+AML~g1+g2+g3+g4+g5+g6+g7+g8+g9+g10+g11+g12+g13+g14'",
            "text/latex": "'ALL+MLL+AML\\textasciitilde{}g1+g2+g3+g4+g5+g6+g7+g8+g9+g10+g11+g12+g13+g14'",
            "text/plain": [
              "[1] \"ALL+MLL+AML~g1+g2+g3+g4+g5+g6+g7+g8+g9+g10+g11+g12+g13+g14\""
            ]
          },
          "metadata": {}
        },
        {
          "output_type": "display_data",
          "data": {
            "text/plain": [
              "ALL + MLL + AML ~ g1 + g2 + g3 + g4 + g5 + g6 + g7 + g8 + g9 + \n",
              "    g10 + g11 + g12 + g13 + g14"
            ]
          },
          "metadata": {}
        }
      ]
    },
    {
      "cell_type": "code",
      "source": [
        "nn <- neuralnet(f,data=nnet_leukemaiTrain, hidden=c(14,7,3), linear.output = TRUE)\n",
        "plot(nn)"
      ],
      "metadata": {
        "id": "4ddb83nhHa2t"
      },
      "execution_count": null,
      "outputs": []
    },
    {
      "cell_type": "code",
      "source": [
        "#prediction\n",
        "mypredict <- compute(nn, testData[1:14])$net.result\n",
        "\n",
        "#put multiple binary output to categorical output\n",
        "maxidx <- function(arr){ return(which(arr == max(arr)))}\n",
        "\n",
        "idx <- apply(mypredict, c(1), maxidx)\n",
        "prediction <- c(\"ALL\",\"MLL\",\"AML\")[idx]\n",
        "table(prediction, testData$Class)"
      ],
      "metadata": {
        "colab": {
          "base_uri": "https://localhost:8080/",
          "height": 104
        },
        "id": "Cw2ZRp1jHjjV",
        "outputId": "0c6262bb-5a23-499a-a22d-51d5e81f76d9"
      },
      "execution_count": null,
      "outputs": [
        {
          "output_type": "display_data",
          "data": {
            "text/plain": [
              "          \n",
              "prediction ALL AML MLL\n",
              "       ALL   3   1   0\n",
              "       AML   4   3   2\n",
              "       MLL   1   2   1"
            ]
          },
          "metadata": {}
        }
      ]
    },
    {
      "cell_type": "code",
      "source": [
        "library(caret)\n",
        "library(lattice)\n",
        "library(ggplot2)\n",
        "prediction <- c(\"ALL\",\"MLL\",\"AML\")[idx]\n",
        "xtab <- table(factor(prediction), factor(testData$Class))\n",
        "results <- confusionMatrix(xtab)\n",
        "results"
      ],
      "metadata": {
        "colab": {
          "base_uri": "https://localhost:8080/",
          "height": 538
        },
        "id": "Liq9LWILIJrV",
        "outputId": "b22741ed-aa96-448a-ded5-e2ac9df85fdd"
      },
      "execution_count": null,
      "outputs": [
        {
          "output_type": "display_data",
          "data": {
            "text/plain": [
              "Confusion Matrix and Statistics\n",
              "\n",
              "     \n",
              "      ALL AML MLL\n",
              "  ALL   3   1   0\n",
              "  AML   4   3   2\n",
              "  MLL   1   2   1\n",
              "\n",
              "Overall Statistics\n",
              "                                          \n",
              "               Accuracy : 0.4118          \n",
              "                 95% CI : (0.1844, 0.6708)\n",
              "    No Information Rate : 0.4706          \n",
              "    P-Value [Acc > NIR] : 0.7656          \n",
              "                                          \n",
              "                  Kappa : 0.1099          \n",
              "                                          \n",
              " Mcnemar's Test P-Value : 0.4235          \n",
              "\n",
              "Statistics by Class:\n",
              "\n",
              "                     Class: ALL Class: AML Class: MLL\n",
              "Sensitivity              0.3750     0.5000    0.33333\n",
              "Specificity              0.8889     0.4545    0.78571\n",
              "Pos Pred Value           0.7500     0.3333    0.25000\n",
              "Neg Pred Value           0.6154     0.6250    0.84615\n",
              "Prevalence               0.4706     0.3529    0.17647\n",
              "Detection Rate           0.1765     0.1765    0.05882\n",
              "Detection Prevalence     0.2353     0.5294    0.23529\n",
              "Balanced Accuracy        0.6319     0.4773    0.55952"
            ]
          },
          "metadata": {}
        }
      ]
    },
    {
      "cell_type": "markdown",
      "source": [
        "###### kNN"
      ],
      "metadata": {
        "id": "DhZsjIsPJlDV"
      }
    },
    {
      "cell_type": "code",
      "source": [
        "library(class)"
      ],
      "metadata": {
        "id": "4l0CRhhPJnG3"
      },
      "execution_count": null,
      "outputs": []
    },
    {
      "cell_type": "code",
      "source": [
        "# create factor data for class column\n",
        "leukemiakNN <- leukemiaData\n",
        "leukemiakNN$Class <- factor(leukemiakNN$Class)\n",
        "head(leukemiakNN)"
      ],
      "metadata": {
        "colab": {
          "base_uri": "https://localhost:8080/",
          "height": 286
        },
        "id": "YzOWYO7cJyn9",
        "outputId": "62a18052-be80-4391-de29-512d930a8d9f"
      },
      "execution_count": null,
      "outputs": [
        {
          "output_type": "display_data",
          "data": {
            "text/html": [
              "<table class=\"dataframe\">\n",
              "<caption>A data.frame: 6 × 15</caption>\n",
              "<thead>\n",
              "\t<tr><th></th><th scope=col>g1</th><th scope=col>g2</th><th scope=col>g3</th><th scope=col>g4</th><th scope=col>g5</th><th scope=col>g6</th><th scope=col>g7</th><th scope=col>g8</th><th scope=col>g9</th><th scope=col>g10</th><th scope=col>g11</th><th scope=col>g12</th><th scope=col>g13</th><th scope=col>g14</th><th scope=col>Class</th></tr>\n",
              "\t<tr><th></th><th scope=col>&lt;dbl&gt;</th><th scope=col>&lt;dbl&gt;</th><th scope=col>&lt;dbl&gt;</th><th scope=col>&lt;dbl&gt;</th><th scope=col>&lt;dbl&gt;</th><th scope=col>&lt;dbl&gt;</th><th scope=col>&lt;dbl&gt;</th><th scope=col>&lt;dbl&gt;</th><th scope=col>&lt;dbl&gt;</th><th scope=col>&lt;dbl&gt;</th><th scope=col>&lt;dbl&gt;</th><th scope=col>&lt;dbl&gt;</th><th scope=col>&lt;dbl&gt;</th><th scope=col>&lt;dbl&gt;</th><th scope=col>&lt;fct&gt;</th></tr>\n",
              "</thead>\n",
              "<tbody>\n",
              "\t<tr><th scope=row>1</th><td>-161.8</td><td>  34.8</td><td>-34.4</td><td>179.1</td><td>41796.7</td><td>115.6</td><td> -90.9</td><td>58786.1</td><td>33123.1</td><td>-161.1</td><td>224.8</td><td>543.4</td><td> 553.3</td><td>258.5</td><td>ALL</td></tr>\n",
              "\t<tr><th scope=row>2</th><td>-231.0</td><td>-102.0</td><td>-31.0</td><td> 61.0</td><td> 8931.0</td><td>159.0</td><td> -71.0</td><td>11987.0</td><td>30918.0</td><td>-293.0</td><td> 28.0</td><td>977.0</td><td>3849.0</td><td>375.0</td><td>ALL</td></tr>\n",
              "\t<tr><th scope=row>3</th><td>-279.0</td><td>  91.0</td><td>-30.0</td><td>148.0</td><td>13966.0</td><td> -3.0</td><td> -86.0</td><td>33933.0</td><td>36121.0</td><td>-186.0</td><td> 34.0</td><td>118.0</td><td> 678.0</td><td>203.0</td><td>ALL</td></tr>\n",
              "\t<tr><th scope=row>4</th><td> -20.0</td><td> 115.0</td><td>-10.0</td><td> 29.0</td><td>12994.0</td><td>181.0</td><td>-136.0</td><td>12087.0</td><td>35378.0</td><td>-214.0</td><td> 39.0</td><td> 38.0</td><td> 999.0</td><td>  9.0</td><td>ALL</td></tr>\n",
              "\t<tr><th scope=row>5</th><td>-268.0</td><td> 128.0</td><td> 80.0</td><td>337.0</td><td>10895.0</td><td>146.0</td><td> -96.0</td><td>23603.0</td><td>40302.0</td><td>-216.0</td><td>155.0</td><td>609.0</td><td>1005.0</td><td>385.0</td><td>ALL</td></tr>\n",
              "\t<tr><th scope=row>6</th><td>-370.0</td><td>  10.0</td><td> 22.0</td><td>153.0</td><td>15493.0</td><td> 84.0</td><td>-117.0</td><td>16300.0</td><td>40460.0</td><td>-310.0</td><td>173.0</td><td>653.0</td><td>3293.0</td><td>475.0</td><td>ALL</td></tr>\n",
              "</tbody>\n",
              "</table>\n"
            ],
            "text/markdown": "\nA data.frame: 6 × 15\n\n| <!--/--> | g1 &lt;dbl&gt; | g2 &lt;dbl&gt; | g3 &lt;dbl&gt; | g4 &lt;dbl&gt; | g5 &lt;dbl&gt; | g6 &lt;dbl&gt; | g7 &lt;dbl&gt; | g8 &lt;dbl&gt; | g9 &lt;dbl&gt; | g10 &lt;dbl&gt; | g11 &lt;dbl&gt; | g12 &lt;dbl&gt; | g13 &lt;dbl&gt; | g14 &lt;dbl&gt; | Class &lt;fct&gt; |\n|---|---|---|---|---|---|---|---|---|---|---|---|---|---|---|---|\n| 1 | -161.8 |   34.8 | -34.4 | 179.1 | 41796.7 | 115.6 |  -90.9 | 58786.1 | 33123.1 | -161.1 | 224.8 | 543.4 |  553.3 | 258.5 | ALL |\n| 2 | -231.0 | -102.0 | -31.0 |  61.0 |  8931.0 | 159.0 |  -71.0 | 11987.0 | 30918.0 | -293.0 |  28.0 | 977.0 | 3849.0 | 375.0 | ALL |\n| 3 | -279.0 |   91.0 | -30.0 | 148.0 | 13966.0 |  -3.0 |  -86.0 | 33933.0 | 36121.0 | -186.0 |  34.0 | 118.0 |  678.0 | 203.0 | ALL |\n| 4 |  -20.0 |  115.0 | -10.0 |  29.0 | 12994.0 | 181.0 | -136.0 | 12087.0 | 35378.0 | -214.0 |  39.0 |  38.0 |  999.0 |   9.0 | ALL |\n| 5 | -268.0 |  128.0 |  80.0 | 337.0 | 10895.0 | 146.0 |  -96.0 | 23603.0 | 40302.0 | -216.0 | 155.0 | 609.0 | 1005.0 | 385.0 | ALL |\n| 6 | -370.0 |   10.0 |  22.0 | 153.0 | 15493.0 |  84.0 | -117.0 | 16300.0 | 40460.0 | -310.0 | 173.0 | 653.0 | 3293.0 | 475.0 | ALL |\n\n",
            "text/latex": "A data.frame: 6 × 15\n\\begin{tabular}{r|lllllllllllllll}\n  & g1 & g2 & g3 & g4 & g5 & g6 & g7 & g8 & g9 & g10 & g11 & g12 & g13 & g14 & Class\\\\\n  & <dbl> & <dbl> & <dbl> & <dbl> & <dbl> & <dbl> & <dbl> & <dbl> & <dbl> & <dbl> & <dbl> & <dbl> & <dbl> & <dbl> & <fct>\\\\\n\\hline\n\t1 & -161.8 &   34.8 & -34.4 & 179.1 & 41796.7 & 115.6 &  -90.9 & 58786.1 & 33123.1 & -161.1 & 224.8 & 543.4 &  553.3 & 258.5 & ALL\\\\\n\t2 & -231.0 & -102.0 & -31.0 &  61.0 &  8931.0 & 159.0 &  -71.0 & 11987.0 & 30918.0 & -293.0 &  28.0 & 977.0 & 3849.0 & 375.0 & ALL\\\\\n\t3 & -279.0 &   91.0 & -30.0 & 148.0 & 13966.0 &  -3.0 &  -86.0 & 33933.0 & 36121.0 & -186.0 &  34.0 & 118.0 &  678.0 & 203.0 & ALL\\\\\n\t4 &  -20.0 &  115.0 & -10.0 &  29.0 & 12994.0 & 181.0 & -136.0 & 12087.0 & 35378.0 & -214.0 &  39.0 &  38.0 &  999.0 &   9.0 & ALL\\\\\n\t5 & -268.0 &  128.0 &  80.0 & 337.0 & 10895.0 & 146.0 &  -96.0 & 23603.0 & 40302.0 & -216.0 & 155.0 & 609.0 & 1005.0 & 385.0 & ALL\\\\\n\t6 & -370.0 &   10.0 &  22.0 & 153.0 & 15493.0 &  84.0 & -117.0 & 16300.0 & 40460.0 & -310.0 & 173.0 & 653.0 & 3293.0 & 475.0 & ALL\\\\\n\\end{tabular}\n",
            "text/plain": [
              "  g1     g2     g3    g4    g5      g6    g7     g8      g9      g10    g11  \n",
              "1 -161.8   34.8 -34.4 179.1 41796.7 115.6  -90.9 58786.1 33123.1 -161.1 224.8\n",
              "2 -231.0 -102.0 -31.0  61.0  8931.0 159.0  -71.0 11987.0 30918.0 -293.0  28.0\n",
              "3 -279.0   91.0 -30.0 148.0 13966.0  -3.0  -86.0 33933.0 36121.0 -186.0  34.0\n",
              "4  -20.0  115.0 -10.0  29.0 12994.0 181.0 -136.0 12087.0 35378.0 -214.0  39.0\n",
              "5 -268.0  128.0  80.0 337.0 10895.0 146.0  -96.0 23603.0 40302.0 -216.0 155.0\n",
              "6 -370.0   10.0  22.0 153.0 15493.0  84.0 -117.0 16300.0 40460.0 -310.0 173.0\n",
              "  g12   g13    g14   Class\n",
              "1 543.4  553.3 258.5 ALL  \n",
              "2 977.0 3849.0 375.0 ALL  \n",
              "3 118.0  678.0 203.0 ALL  \n",
              "4  38.0  999.0   9.0 ALL  \n",
              "5 609.0 1005.0 385.0 ALL  \n",
              "6 653.0 3293.0 475.0 ALL  "
            ]
          },
          "metadata": {}
        }
      ]
    },
    {
      "cell_type": "code",
      "source": [
        "#Spliting data 30% as test / 70% as training\n",
        "set.seed(6536115)\n",
        "ind <- sample(2, nrow(leukemiakNN), replace=TRUE, prob=c(0.7, 0.3))\n",
        "trainData <- leukemiakNN[ind==1,]\n",
        "testData <- leukemiakNN[ind==2,]\n",
        "\n",
        "train_input <-as.matrix(trainData[,-15])\n",
        "train_output <-as.vector(trainData[,15])\n",
        "test_input <-as.matrix(testData[,-15])"
      ],
      "metadata": {
        "id": "MhO88LA6KJDt"
      },
      "execution_count": null,
      "outputs": []
    },
    {
      "cell_type": "code",
      "source": [
        "prediction <-knn(train_input, test_input, train_output, k=9)\n",
        "table(prediction, testData$Class)"
      ],
      "metadata": {
        "colab": {
          "base_uri": "https://localhost:8080/",
          "height": 104
        },
        "id": "2vYNueJfKV2I",
        "outputId": "07761737-d447-4e40-d36a-456aefa4bb30"
      },
      "execution_count": null,
      "outputs": [
        {
          "output_type": "display_data",
          "data": {
            "text/plain": [
              "          \n",
              "prediction ALL AML MLL\n",
              "       ALL   4   2   0\n",
              "       AML   2   4   1\n",
              "       MLL   2   0   2"
            ]
          },
          "metadata": {}
        }
      ]
    },
    {
      "cell_type": "code",
      "source": [
        "library(caret)\n",
        "library(lattice)\n",
        "library(ggplot2)\n",
        "xtab <- table(prediction, testData$Class)\n",
        "results <-confusionMatrix(xtab)\n",
        "results"
      ],
      "metadata": {
        "colab": {
          "base_uri": "https://localhost:8080/",
          "height": 538
        },
        "id": "n6IQFC3lLCN8",
        "outputId": "3252a128-d6fa-46ba-e850-3ed0ae03f77e"
      },
      "execution_count": null,
      "outputs": [
        {
          "output_type": "display_data",
          "data": {
            "text/plain": [
              "Confusion Matrix and Statistics\n",
              "\n",
              "          \n",
              "prediction ALL AML MLL\n",
              "       ALL   4   2   0\n",
              "       AML   2   4   1\n",
              "       MLL   2   0   2\n",
              "\n",
              "Overall Statistics\n",
              "                                          \n",
              "               Accuracy : 0.5882          \n",
              "                 95% CI : (0.3292, 0.8156)\n",
              "    No Information Rate : 0.4706          \n",
              "    P-Value [Acc > NIR] : 0.2329          \n",
              "                                          \n",
              "                  Kappa : 0.3636          \n",
              "                                          \n",
              " Mcnemar's Test P-Value : 0.3916          \n",
              "\n",
              "Statistics by Class:\n",
              "\n",
              "                     Class: ALL Class: AML Class: MLL\n",
              "Sensitivity              0.5000     0.6667     0.6667\n",
              "Specificity              0.7778     0.7273     0.8571\n",
              "Pos Pred Value           0.6667     0.5714     0.5000\n",
              "Neg Pred Value           0.6364     0.8000     0.9231\n",
              "Prevalence               0.4706     0.3529     0.1765\n",
              "Detection Rate           0.2353     0.2353     0.1176\n",
              "Detection Prevalence     0.3529     0.4118     0.2353\n",
              "Balanced Accuracy        0.6389     0.6970     0.7619"
            ]
          },
          "metadata": {}
        }
      ]
    },
    {
      "cell_type": "markdown",
      "source": [
        "##### 5. Model evaluation\n",
        "##### 6. Results discussion (For example, Which method(model) should \n",
        "you choose? Why? Please explain as much as possible)"
      ],
      "metadata": {
        "id": "sLkuPgGbBZOr"
      }
    },
    {
      "cell_type": "markdown",
      "source": [
        "# B).(15 pts.) the result,\n",
        "- Please write a formula and \n",
        "explain the meaning, pros, \n",
        "and cons of each \n",
        "measurement. \n",
        "- If your training set is an \n",
        "imbalance data, which \n",
        "measurements you prefer to \n",
        "measure your model \n",
        "performance? Why?"
      ],
      "metadata": {
        "id": "cOwdtxZP6LsQ"
      }
    },
    {
      "cell_type": "code",
      "source": [
        "library(class)\n",
        "irisKNN <- iris\n",
        "set.seed(152)\n",
        "ind <- sample(2, nrow(irisKNN), replace=TRUE, prob=c(0.7, 0.3))\n",
        "trainDataKNN <- irisKNN[ind==1,]\n",
        "testDataKNN <- irisKNN[ind==2,]\n",
        "\n",
        "train_input <-as.matrix(trainDataKNN[,-5])\n",
        "train_output <-as.vector(trainDataKNN[,5])\n",
        "test_input <-as.matrix(testDataKNN[,-5])\n",
        "\n",
        "prediction <-knn(train_input, test_input, train_output, k=1)\n",
        "\n",
        "library(caret)\n",
        "library(lattice)\n",
        "library(ggplot2)\n",
        "xtab <- table(prediction, testDataKNN$Species)\n",
        "results <-confusionMatrix(xtab)\n",
        "as.table(results)\n",
        "as.matrix(results, what = \"overall\")"
      ],
      "metadata": {
        "colab": {
          "base_uri": "https://localhost:8080/",
          "height": 341
        },
        "id": "skGPctmxL_Kk",
        "outputId": "13d136e1-af38-4172-bc7a-726a5631e4e3"
      },
      "execution_count": null,
      "outputs": [
        {
          "output_type": "display_data",
          "data": {
            "text/plain": [
              "            \n",
              "prediction   setosa versicolor virginica\n",
              "  setosa         10          0         0\n",
              "  versicolor      0         10         1\n",
              "  virginica       0          0        13"
            ]
          },
          "metadata": {}
        },
        {
          "output_type": "display_data",
          "data": {
            "text/html": [
              "<table class=\"dataframe\">\n",
              "<caption>A matrix: 7 × 1 of type dbl</caption>\n",
              "<tbody>\n",
              "\t<tr><th scope=row>Accuracy</th><td>9.705882e-01</td></tr>\n",
              "\t<tr><th scope=row>Kappa</th><td>9.554974e-01</td></tr>\n",
              "\t<tr><th scope=row>AccuracyLower</th><td>8.467323e-01</td></tr>\n",
              "\t<tr><th scope=row>AccuracyUpper</th><td>9.992556e-01</td></tr>\n",
              "\t<tr><th scope=row>AccuracyNull</th><td>4.117647e-01</td></tr>\n",
              "\t<tr><th scope=row>AccuracyPValue</th><td>3.920139e-12</td></tr>\n",
              "\t<tr><th scope=row>McnemarPValue</th><td>         NaN</td></tr>\n",
              "</tbody>\n",
              "</table>\n"
            ],
            "text/markdown": "\nA matrix: 7 × 1 of type dbl\n\n| Accuracy | 9.705882e-01 |\n| Kappa | 9.554974e-01 |\n| AccuracyLower | 8.467323e-01 |\n| AccuracyUpper | 9.992556e-01 |\n| AccuracyNull | 4.117647e-01 |\n| AccuracyPValue | 3.920139e-12 |\n| McnemarPValue |          NaN |\n\n",
            "text/latex": "A matrix: 7 × 1 of type dbl\n\\begin{tabular}{r|l}\n\tAccuracy & 9.705882e-01\\\\\n\tKappa & 9.554974e-01\\\\\n\tAccuracyLower & 8.467323e-01\\\\\n\tAccuracyUpper & 9.992556e-01\\\\\n\tAccuracyNull & 4.117647e-01\\\\\n\tAccuracyPValue & 3.920139e-12\\\\\n\tMcnemarPValue &          NaN\\\\\n\\end{tabular}\n",
            "text/plain": [
              "               [,1]        \n",
              "Accuracy       9.705882e-01\n",
              "Kappa          9.554974e-01\n",
              "AccuracyLower  8.467323e-01\n",
              "AccuracyUpper  9.992556e-01\n",
              "AccuracyNull   4.117647e-01\n",
              "AccuracyPValue 3.920139e-12\n",
              "McnemarPValue           NaN"
            ]
          },
          "metadata": {}
        }
      ]
    },
    {
      "cell_type": "markdown",
      "source": [
        "**true positive (TP)**\n",
        "A test result that correctly indicates the presence of a condition or \n",
        "characteristic  \n",
        "\n",
        "**true negative (TN)**\n",
        "A test result that correctly indicates the absence of a condition or characteristic  \n",
        "\n",
        "**false positive (FP)**\n",
        "A test result which wrongly indicates that a particular condition or attribute is present  \n",
        "\n",
        "**false negative (FN)**\n",
        "A test result which wrongly indicates that a particular condition or attribute is absent"
      ],
      "metadata": {
        "id": "vwdi2hjyadlA"
      }
    },
    {
      "cell_type": "markdown",
      "source": [
        "$$Acuracy = \\frac{TP + TN}{TP + TN + FP + FN} $$\n"
      ],
      "metadata": {
        "id": "dgL8U-MjL62C"
      }
    },
    {
      "cell_type": "code",
      "source": [
        "as.matrix(results, what = \"classes\")"
      ],
      "metadata": {
        "colab": {
          "base_uri": "https://localhost:8080/",
          "height": 412
        },
        "id": "sjR3-N3zXTty",
        "outputId": "9a35ca6f-39bd-4197-9e19-cf85e8b93a4d"
      },
      "execution_count": null,
      "outputs": [
        {
          "output_type": "display_data",
          "data": {
            "text/html": [
              "<table class=\"dataframe\">\n",
              "<caption>A matrix: 11 × 3 of type dbl</caption>\n",
              "<thead>\n",
              "\t<tr><th></th><th scope=col>setosa</th><th scope=col>versicolor</th><th scope=col>virginica</th></tr>\n",
              "</thead>\n",
              "<tbody>\n",
              "\t<tr><th scope=row>Sensitivity</th><td>1.0000000</td><td>1.0000000</td><td>0.9285714</td></tr>\n",
              "\t<tr><th scope=row>Specificity</th><td>1.0000000</td><td>0.9583333</td><td>1.0000000</td></tr>\n",
              "\t<tr><th scope=row>Pos Pred Value</th><td>1.0000000</td><td>0.9090909</td><td>1.0000000</td></tr>\n",
              "\t<tr><th scope=row>Neg Pred Value</th><td>1.0000000</td><td>1.0000000</td><td>0.9523810</td></tr>\n",
              "\t<tr><th scope=row>Precision</th><td>1.0000000</td><td>0.9090909</td><td>1.0000000</td></tr>\n",
              "\t<tr><th scope=row>Recall</th><td>1.0000000</td><td>1.0000000</td><td>0.9285714</td></tr>\n",
              "\t<tr><th scope=row>F1</th><td>1.0000000</td><td>0.9523810</td><td>0.9629630</td></tr>\n",
              "\t<tr><th scope=row>Prevalence</th><td>0.2941176</td><td>0.2941176</td><td>0.4117647</td></tr>\n",
              "\t<tr><th scope=row>Detection Rate</th><td>0.2941176</td><td>0.2941176</td><td>0.3823529</td></tr>\n",
              "\t<tr><th scope=row>Detection Prevalence</th><td>0.2941176</td><td>0.3235294</td><td>0.3823529</td></tr>\n",
              "\t<tr><th scope=row>Balanced Accuracy</th><td>1.0000000</td><td>0.9791667</td><td>0.9642857</td></tr>\n",
              "</tbody>\n",
              "</table>\n"
            ],
            "text/markdown": "\nA matrix: 11 × 3 of type dbl\n\n| <!--/--> | setosa | versicolor | virginica |\n|---|---|---|---|\n| Sensitivity | 1.0000000 | 1.0000000 | 0.9285714 |\n| Specificity | 1.0000000 | 0.9583333 | 1.0000000 |\n| Pos Pred Value | 1.0000000 | 0.9090909 | 1.0000000 |\n| Neg Pred Value | 1.0000000 | 1.0000000 | 0.9523810 |\n| Precision | 1.0000000 | 0.9090909 | 1.0000000 |\n| Recall | 1.0000000 | 1.0000000 | 0.9285714 |\n| F1 | 1.0000000 | 0.9523810 | 0.9629630 |\n| Prevalence | 0.2941176 | 0.2941176 | 0.4117647 |\n| Detection Rate | 0.2941176 | 0.2941176 | 0.3823529 |\n| Detection Prevalence | 0.2941176 | 0.3235294 | 0.3823529 |\n| Balanced Accuracy | 1.0000000 | 0.9791667 | 0.9642857 |\n\n",
            "text/latex": "A matrix: 11 × 3 of type dbl\n\\begin{tabular}{r|lll}\n  & setosa & versicolor & virginica\\\\\n\\hline\n\tSensitivity & 1.0000000 & 1.0000000 & 0.9285714\\\\\n\tSpecificity & 1.0000000 & 0.9583333 & 1.0000000\\\\\n\tPos Pred Value & 1.0000000 & 0.9090909 & 1.0000000\\\\\n\tNeg Pred Value & 1.0000000 & 1.0000000 & 0.9523810\\\\\n\tPrecision & 1.0000000 & 0.9090909 & 1.0000000\\\\\n\tRecall & 1.0000000 & 1.0000000 & 0.9285714\\\\\n\tF1 & 1.0000000 & 0.9523810 & 0.9629630\\\\\n\tPrevalence & 0.2941176 & 0.2941176 & 0.4117647\\\\\n\tDetection Rate & 0.2941176 & 0.2941176 & 0.3823529\\\\\n\tDetection Prevalence & 0.2941176 & 0.3235294 & 0.3823529\\\\\n\tBalanced Accuracy & 1.0000000 & 0.9791667 & 0.9642857\\\\\n\\end{tabular}\n",
            "text/plain": [
              "                     setosa    versicolor virginica\n",
              "Sensitivity          1.0000000 1.0000000  0.9285714\n",
              "Specificity          1.0000000 0.9583333  1.0000000\n",
              "Pos Pred Value       1.0000000 0.9090909  1.0000000\n",
              "Neg Pred Value       1.0000000 1.0000000  0.9523810\n",
              "Precision            1.0000000 0.9090909  1.0000000\n",
              "Recall               1.0000000 1.0000000  0.9285714\n",
              "F1                   1.0000000 0.9523810  0.9629630\n",
              "Prevalence           0.2941176 0.2941176  0.4117647\n",
              "Detection Rate       0.2941176 0.2941176  0.3823529\n",
              "Detection Prevalence 0.2941176 0.3235294  0.3823529\n",
              "Balanced Accuracy    1.0000000 0.9791667  0.9642857"
            ]
          },
          "metadata": {}
        }
      ]
    },
    {
      "cell_type": "markdown",
      "source": [
        "$$Sensitivity = \\frac{TP}{P} = \\frac{TP}{TP + FN} $$\n",
        "\n",
        "$$Specificity = \\frac{TN}{N} = \\frac{TN}{TN + FP} $$\n",
        "\n",
        "$$Pos Pred Value(PPV) = \\frac{TP}{TP + FP} $$\n",
        "\n",
        "$$Neg predictive value (NPV) = \\frac{TN}{TN + FN} $$\n",
        "\n",
        "$$Precision = PPV = \\frac{TP}{TP + FP} $$\n",
        "\n",
        "$$Recall = Sensitivity = \\frac{TP}{TP + FN} $$\n",
        "\n",
        "$$F1 = 2 *\\frac{Precision * Recall}{Precision + Recall} $$\n",
        "\n",
        "$$Prevalence = \\frac{P}{P+N} = \\frac{TP + FN}{TP + FN + TN + FP}$$\n",
        "\n",
        "$$Detection Rate$$\n",
        "\n",
        "$$Detection Prevalence$$\n",
        "\n",
        "$$Balanced Accuracy = \\frac{Sensitivity + Specificity}{2}$$"
      ],
      "metadata": {
        "id": "ufxU2U9IXYjK"
      }
    },
    {
      "cell_type": "markdown",
      "source": [
        "# C). (15 pts.) Aj. Ake wants to plan the daily nutrient intake when on a tight budget. The doctor \n",
        "**recommended the daily nutrients that Aj. Akeshould get:**\n",
        "- Calories per day at least 500 kcal.\n",
        "- At least 6 g. of protein.\n",
        "- Carbohydrate at least 10 g.\n",
        "- Fat at least 8 g.\n"
      ],
      "metadata": {
        "id": "pDcFms7Xb2x1"
      }
    },
    {
      "cell_type": "markdown",
      "source": [
        "give\n",
        "$$ x1 = menu1 $$\n",
        "$$ x2 = menu2 $$\n",
        "$$ x3 = menu3 $$\n",
        "$$ x4 = menu4 $$"
      ],
      "metadata": {
        "id": "L-abp3oxNVYc"
      }
    },
    {
      "cell_type": "markdown",
      "source": [
        "\n",
        "show equation  \n",
        "$$400 x1 + 200 x2 + 150 x3 + 500 x4 >= 500 kcal$$\n",
        "\n",
        "$$3 x1 + 2 x2 + 0 x3 + 0 x4 >= 6 g (protien)$$\n",
        "\n",
        "$$2 x1 + 2 x2 + 4 x3 + 4 x4 >= 10 g (carb)$$\n",
        "\n",
        "$$2 x1 + 4 x2 + 1 x3 + 5 x4 >= 8 g (fat)$$\n",
        "\n",
        "objective function to get lowest price bath  \n",
        "\n",
        "$$500 x1 + 200 x2 + 300 x3 + 800 x4$$\n"
      ],
      "metadata": {
        "id": "PkPZcsGNcRAj"
      }
    },
    {
      "cell_type": "code",
      "source": [
        "install.packages('lpSolve')\n",
        "library(lpSolve)"
      ],
      "metadata": {
        "id": "t6GVYCkgcVDv",
        "colab": {
          "base_uri": "https://localhost:8080/"
        },
        "outputId": "9a007c2b-94a1-4917-b631-55ddbf6fab0b"
      },
      "execution_count": null,
      "outputs": [
        {
          "output_type": "stream",
          "name": "stderr",
          "text": [
            "Installing package into ‘/usr/local/lib/R/site-library’\n",
            "(as ‘lib’ is unspecified)\n",
            "\n"
          ]
        }
      ]
    },
    {
      "cell_type": "code",
      "source": [
        "f.obj <- c(500, 200, 300, 800)"
      ],
      "metadata": {
        "id": "0PjNRCOmctZV"
      },
      "execution_count": null,
      "outputs": []
    },
    {
      "cell_type": "code",
      "source": [
        "f.con <- matrix(c(400, 200, 150, 500,\n",
        "3, 2, 0, 0,\n",
        "2, 2, 4, 4,\n",
        "2, 4, 1, 5), nrow = 4, byrow = TRUE)"
      ],
      "metadata": {
        "id": "Zn4oew60cvf9"
      },
      "execution_count": null,
      "outputs": []
    },
    {
      "cell_type": "code",
      "source": [
        "f.dir <-c(\">=\",\n",
        "\">=\",\n",
        "\">=\",\n",
        "\">=\")"
      ],
      "metadata": {
        "id": "H0DGFZqCcxrl"
      },
      "execution_count": null,
      "outputs": []
    },
    {
      "cell_type": "code",
      "source": [
        "f.rhs <-c(500,\n",
        "6,\n",
        "10,\n",
        "8)"
      ],
      "metadata": {
        "id": "BJgEpAUuczfs"
      },
      "execution_count": null,
      "outputs": []
    },
    {
      "cell_type": "code",
      "source": [
        "lp(\"min\", f.obj, f.con, f.dir, f.rhs)"
      ],
      "metadata": {
        "colab": {
          "base_uri": "https://localhost:8080/",
          "height": 34
        },
        "id": "UhY3MZsab1vk",
        "outputId": "721ac9e8-94bc-4ef3-bfb8-02b40ed38846"
      },
      "execution_count": null,
      "outputs": [
        {
          "output_type": "display_data",
          "data": {
            "text/plain": [
              "Success: the objective function is 900 "
            ]
          },
          "metadata": {}
        }
      ]
    },
    {
      "cell_type": "code",
      "source": [
        "lp(\"min\", f.obj, f.con, f.dir, f.rhs)$solution"
      ],
      "metadata": {
        "colab": {
          "base_uri": "https://localhost:8080/",
          "height": 34
        },
        "id": "n-kXywkFb1zB",
        "outputId": "d278b45c-59f9-4a85-bf63-9fb0e4a75aa7"
      },
      "execution_count": null,
      "outputs": [
        {
          "output_type": "display_data",
          "data": {
            "text/html": [
              "<style>\n",
              ".list-inline {list-style: none; margin:0; padding: 0}\n",
              ".list-inline>li {display: inline-block}\n",
              ".list-inline>li:not(:last-child)::after {content: \"\\00b7\"; padding: 0 .5ex}\n",
              "</style>\n",
              "<ol class=list-inline><li>0</li><li>3</li><li>1</li><li>0</li></ol>\n"
            ],
            "text/markdown": "1. 0\n2. 3\n3. 1\n4. 0\n\n\n",
            "text/latex": "\\begin{enumerate*}\n\\item 0\n\\item 3\n\\item 1\n\\item 0\n\\end{enumerate*}\n",
            "text/plain": [
              "[1] 0 3 1 0"
            ]
          },
          "metadata": {}
        }
      ]
    },
    {
      "cell_type": "markdown",
      "source": [
        "**eat 3 for menu2 and 1 for menu3**"
      ],
      "metadata": {
        "id": "cA37oP7wNtxJ"
      }
    },
    {
      "cell_type": "markdown",
      "source": [
        "# D). (10 pts.) you are a data scientist and your boss asks you to train a deep learning model by using an image data augmentation technique.Please create more 21 images from the original three images(x\u0002ray01.jpg, x-ray02.jpg, x-ray03.jpg) by using R."
      ],
      "metadata": {
        "id": "SNP_f-W1dDen"
      }
    },
    {
      "cell_type": "code",
      "source": [
        "system('add-apt-repository -y ppa:cran/imagemagick')\n",
        "system('apt-get update')\n",
        "system(\"apt-get install libmagick++-dev\")\n",
        "install.packages(\"magick\")"
      ],
      "metadata": {
        "id": "lyGpqc-PdPMr",
        "colab": {
          "base_uri": "https://localhost:8080/"
        },
        "outputId": "8b5c0ad9-9ce1-4edf-a7cd-5e377832a93a"
      },
      "execution_count": null,
      "outputs": [
        {
          "output_type": "stream",
          "name": "stderr",
          "text": [
            "Installing package into ‘/usr/local/lib/R/site-library’\n",
            "(as ‘lib’ is unspecified)\n",
            "\n"
          ]
        }
      ]
    },
    {
      "cell_type": "code",
      "source": [
        "urlXray01 = \"https://raw.githubusercontent.com/ViktorHexCore/R_CEB/main/DaraForRpartTwo/x-ray01.jpg\"\n",
        "urlXray02 = \"https://raw.githubusercontent.com/ViktorHexCore/R_CEB/main/DaraForRpartTwo/x-ray02.jpg\"\n",
        "urlXray03 = \"https://raw.githubusercontent.com/ViktorHexCore/R_CEB/main/DaraForRpartTwo/x-ray03.jpg\"\n",
        "download.file(urlXray01, \"x-ray01.jpg\")\n",
        "download.file(urlXray02, \"x-ray02.jpg\")\n",
        "download.file(urlXray03, \"x-ray03.jpg\")"
      ],
      "metadata": {
        "id": "Iw9ztSehbJmA"
      },
      "execution_count": null,
      "outputs": []
    },
    {
      "cell_type": "code",
      "source": [
        "library(magick)\n",
        "str(magick::magick_config())"
      ],
      "metadata": {
        "id": "W3j0-nVmEfdZ",
        "colab": {
          "base_uri": "https://localhost:8080/"
        },
        "outputId": "7485bfc4-5550-473f-8a27-d0a4d98d944e"
      },
      "execution_count": null,
      "outputs": [
        {
          "output_type": "stream",
          "name": "stderr",
          "text": [
            "Linking to ImageMagick 6.9.7.4\n",
            "Enabled features: fontconfig, freetype, fftw, lcms, pango, x11\n",
            "Disabled features: cairo, ghostscript, heic, raw, rsvg, webp\n",
            "\n",
            "Using 2 threads\n",
            "\n"
          ]
        },
        {
          "output_type": "stream",
          "name": "stdout",
          "text": [
            "List of 24\n",
            " $ version           :Class 'numeric_version'  hidden list of 1\n",
            "  ..$ : int [1:4] 6 9 7 4\n",
            " $ modules           : logi TRUE\n",
            " $ cairo             : logi FALSE\n",
            " $ fontconfig        : logi TRUE\n",
            " $ freetype          : logi TRUE\n",
            " $ fftw              : logi TRUE\n",
            " $ ghostscript       : logi FALSE\n",
            " $ heic              : logi FALSE\n",
            " $ jpeg              : logi TRUE\n",
            " $ lcms              : logi TRUE\n",
            " $ libopenjp2        : logi FALSE\n",
            " $ lzma              : logi TRUE\n",
            " $ pangocairo        : logi TRUE\n",
            " $ pango             : logi TRUE\n",
            " $ png               : logi TRUE\n",
            " $ raw               : logi FALSE\n",
            " $ rsvg              : logi FALSE\n",
            " $ tiff              : logi TRUE\n",
            " $ webp              : logi FALSE\n",
            " $ wmf               : logi TRUE\n",
            " $ x11               : logi TRUE\n",
            " $ xml               : logi TRUE\n",
            " $ zero-configuration: logi FALSE\n",
            " $ threads           : int 2\n"
          ]
        }
      ]
    },
    {
      "cell_type": "code",
      "source": [
        "#load and display original images\n",
        "xray1 <- image_read(\"x-ray01.jpg\")\n",
        "# image_info(xray1)\n",
        "print(xray1)\n",
        "xray2 <- image_read(\"x-ray02.jpg\")\n",
        "# image_info(xray2)\n",
        "print(xray2)\n",
        "xray3 <- image_read(\"x-ray03.jpg\")\n",
        "# image_info(xray3)\n",
        "print(xray3)"
      ],
      "metadata": {
        "colab": {
          "base_uri": "https://localhost:8080/",
          "height": 924
        },
        "id": "Q_PFIQxFKuZL",
        "outputId": "b0af2e56-2a76-41cc-b5ca-f557eaf3eeae"
      },
      "execution_count": null,
      "outputs": [
        {
          "output_type": "display_data",
          "data": {
            "image/jpeg": "[encoded data removed]"
          },
          "metadata": {}
        },
        {
          "output_type": "stream",
          "name": "stdout",
          "text": [
            "\u001b[90m# A tibble: 1 × 7\u001b[39m\n",
            "  format width height colorspace matte filesize density\n",
            "  \u001b[3m\u001b[90m<chr>\u001b[39m\u001b[23m  \u001b[3m\u001b[90m<int>\u001b[39m\u001b[23m  \u001b[3m\u001b[90m<int>\u001b[39m\u001b[23m \u001b[3m\u001b[90m<chr>\u001b[39m\u001b[23m      \u001b[3m\u001b[90m<lgl>\u001b[39m\u001b[23m    \u001b[3m\u001b[90m<int>\u001b[39m\u001b[23m \u001b[3m\u001b[90m<chr>\u001b[39m\u001b[23m  \n",
            "\u001b[90m1\u001b[39m JPEG     203    249 sRGB       FALSE     \u001b[4m4\u001b[24m439 72x72  \n"
          ]
        },
        {
          "output_type": "display_data",
          "data": {
            "image/jpeg": "[encoded data removed]"
          },
          "metadata": {}
        },
        {
          "output_type": "stream",
          "name": "stdout",
          "text": [
            "\u001b[90m# A tibble: 1 × 7\u001b[39m\n",
            "  format width height colorspace matte filesize density\n",
            "  \u001b[3m\u001b[90m<chr>\u001b[39m\u001b[23m  \u001b[3m\u001b[90m<int>\u001b[39m\u001b[23m  \u001b[3m\u001b[90m<int>\u001b[39m\u001b[23m \u001b[3m\u001b[90m<chr>\u001b[39m\u001b[23m      \u001b[3m\u001b[90m<lgl>\u001b[39m\u001b[23m    \u001b[3m\u001b[90m<int>\u001b[39m\u001b[23m \u001b[3m\u001b[90m<chr>\u001b[39m\u001b[23m  \n",
            "\u001b[90m1\u001b[39m JPEG     225    225 sRGB       FALSE     \u001b[4m5\u001b[24m618 72x72  \n"
          ]
        },
        {
          "output_type": "display_data",
          "data": {
            "image/jpeg": "[encoded data removed]"
          },
          "metadata": {}
        },
        {
          "output_type": "stream",
          "name": "stdout",
          "text": [
            "\u001b[90m# A tibble: 1 × 7\u001b[39m\n",
            "  format width height colorspace matte filesize density\n",
            "  \u001b[3m\u001b[90m<chr>\u001b[39m\u001b[23m  \u001b[3m\u001b[90m<int>\u001b[39m\u001b[23m  \u001b[3m\u001b[90m<int>\u001b[39m\u001b[23m \u001b[3m\u001b[90m<chr>\u001b[39m\u001b[23m      \u001b[3m\u001b[90m<lgl>\u001b[39m\u001b[23m    \u001b[3m\u001b[90m<int>\u001b[39m\u001b[23m \u001b[3m\u001b[90m<chr>\u001b[39m\u001b[23m  \n",
            "\u001b[90m1\u001b[39m JPEG     225    225 sRGB       FALSE     \u001b[4m5\u001b[24m776 72x72  \n"
          ]
        }
      ]
    },
    {
      "cell_type": "code",
      "source": [
        "# trime images\n",
        "image_trim(xray1)\n",
        "# image_trim(xray2)\n",
        "# image_trim(xray3)"
      ],
      "metadata": {
        "id": "LKjPWwVkLBGK",
        "outputId": "f08e949a-8348-4a29-8d8b-e360016f2458",
        "colab": {
          "base_uri": "https://localhost:8080/",
          "height": 335
        }
      },
      "execution_count": null,
      "outputs": [
        {
          "output_type": "display_data",
          "data": {
            "image/jpeg": "[encoded data removed]"
          },
          "metadata": {}
        },
        {
          "output_type": "display_data",
          "data": {
            "text/plain": [
              "\u001b[90m# A tibble: 1 × 7\u001b[39m\n",
              "  format width height colorspace matte filesize density\n",
              "  \u001b[3m\u001b[90m<chr>\u001b[39m\u001b[23m  \u001b[3m\u001b[90m<int>\u001b[39m\u001b[23m  \u001b[3m\u001b[90m<int>\u001b[39m\u001b[23m \u001b[3m\u001b[90m<chr>\u001b[39m\u001b[23m      \u001b[3m\u001b[90m<lgl>\u001b[39m\u001b[23m    \u001b[3m\u001b[90m<int>\u001b[39m\u001b[23m \u001b[3m\u001b[90m<chr>\u001b[39m\u001b[23m  \n",
              "\u001b[90m1\u001b[39m JPEG     203    249 sRGB       FALSE        0 72x72  "
            ]
          },
          "metadata": {}
        }
      ]
    },
    {
      "cell_type": "code",
      "source": [
        "# crop images\n",
        "image_crop(xray1,\"100x200+100\")\n",
        "# image_crop(xray2,\"100x200+100\")\n",
        "# image_crop(xray3,\"100x200+100\")"
      ],
      "metadata": {
        "colab": {
          "base_uri": "https://localhost:8080/",
          "height": 286
        },
        "id": "QxFpKgH7Ryh9",
        "outputId": "0c378f8e-82a5-4e1a-9a88-9b4b943ee03f"
      },
      "execution_count": null,
      "outputs": [
        {
          "output_type": "display_data",
          "data": {
            "image/jpeg": "[encoded data removed]"
          },
          "metadata": {}
        },
        {
          "output_type": "display_data",
          "data": {
            "text/plain": [
              "\u001b[90m# A tibble: 1 × 7\u001b[39m\n",
              "  format width height colorspace matte filesize density\n",
              "  \u001b[3m\u001b[90m<chr>\u001b[39m\u001b[23m  \u001b[3m\u001b[90m<int>\u001b[39m\u001b[23m  \u001b[3m\u001b[90m<int>\u001b[39m\u001b[23m \u001b[3m\u001b[90m<chr>\u001b[39m\u001b[23m      \u001b[3m\u001b[90m<lgl>\u001b[39m\u001b[23m    \u001b[3m\u001b[90m<int>\u001b[39m\u001b[23m \u001b[3m\u001b[90m<chr>\u001b[39m\u001b[23m  \n",
              "\u001b[90m1\u001b[39m JPEG     100    200 sRGB       FALSE        0 72x72  "
            ]
          },
          "metadata": {}
        }
      ]
    },
    {
      "cell_type": "code",
      "source": [
        "image_scale(xray1,\"350\")\n",
        "\n",
        "image_scale(xray1,\"x150\")\n",
        "\n",
        "image_rotate(xray1, 30)\n",
        "\n",
        "image_rotate(xray1, 270)\n",
        "\n",
        "image_flip(xray1)\n",
        "\n",
        "image_modulate(xray1, brightness = 150, saturation = 111, hue = 77)\n",
        "\n",
        "# image_fill(xray1, \"blue\", point = \"+100+200\", fuzz = 10)\n",
        "\n",
        "# image_write(xrayAug, path = \"show.jpg\", format = \"jpeg\", quality = 75)\n",
        "\n",
        "# repeat it with another images"
      ],
      "metadata": {
        "colab": {
          "base_uri": "https://localhost:8080/",
          "height": 1000
        },
        "id": "QKs4B3NFc9Ha",
        "outputId": "9a101388-8cfd-4b75-b02f-535b6b8aebc3"
      },
      "execution_count": null,
      "outputs": [
        {
          "output_type": "display_data",
          "data": {
            "image/jpeg": "[encoded data removed]"
          },
          "metadata": {}
        },
        {
          "output_type": "display_data",
          "data": {
            "text/plain": [
              "\u001b[90m# A tibble: 1 × 7\u001b[39m\n",
              "  format width height colorspace matte filesize density\n",
              "  \u001b[3m\u001b[90m<chr>\u001b[39m\u001b[23m  \u001b[3m\u001b[90m<int>\u001b[39m\u001b[23m  \u001b[3m\u001b[90m<int>\u001b[39m\u001b[23m \u001b[3m\u001b[90m<chr>\u001b[39m\u001b[23m      \u001b[3m\u001b[90m<lgl>\u001b[39m\u001b[23m    \u001b[3m\u001b[90m<int>\u001b[39m\u001b[23m \u001b[3m\u001b[90m<chr>\u001b[39m\u001b[23m  \n",
              "\u001b[90m1\u001b[39m JPEG     350    429 sRGB       FALSE        0 72x72  "
            ]
          },
          "metadata": {}
        },
        {
          "output_type": "display_data",
          "data": {
            "image/jpeg": "[encoded data removed]"
          },
          "metadata": {}
        },
        {
          "output_type": "display_data",
          "data": {
            "text/plain": [
              "\u001b[90m# A tibble: 1 × 7\u001b[39m\n",
              "  format width height colorspace matte filesize density\n",
              "  \u001b[3m\u001b[90m<chr>\u001b[39m\u001b[23m  \u001b[3m\u001b[90m<int>\u001b[39m\u001b[23m  \u001b[3m\u001b[90m<int>\u001b[39m\u001b[23m \u001b[3m\u001b[90m<chr>\u001b[39m\u001b[23m      \u001b[3m\u001b[90m<lgl>\u001b[39m\u001b[23m    \u001b[3m\u001b[90m<int>\u001b[39m\u001b[23m \u001b[3m\u001b[90m<chr>\u001b[39m\u001b[23m  \n",
              "\u001b[90m1\u001b[39m JPEG     122    150 sRGB       FALSE        0 72x72  "
            ]
          },
          "metadata": {}
        },
        {
          "output_type": "display_data",
          "data": {
            "image/jpeg": "[encoded data removed]"
          },
          "metadata": {}
        },
        {
          "output_type": "display_data",
          "data": {
            "text/plain": [
              "\u001b[90m# A tibble: 1 × 7\u001b[39m\n",
              "  format width height colorspace matte filesize density\n",
              "  \u001b[3m\u001b[90m<chr>\u001b[39m\u001b[23m  \u001b[3m\u001b[90m<int>\u001b[39m\u001b[23m  \u001b[3m\u001b[90m<int>\u001b[39m\u001b[23m \u001b[3m\u001b[90m<chr>\u001b[39m\u001b[23m      \u001b[3m\u001b[90m<lgl>\u001b[39m\u001b[23m    \u001b[3m\u001b[90m<int>\u001b[39m\u001b[23m \u001b[3m\u001b[90m<chr>\u001b[39m\u001b[23m  \n",
              "\u001b[90m1\u001b[39m JPEG     303    319 sRGB       FALSE        0 72x72  "
            ]
          },
          "metadata": {}
        },
        {
          "output_type": "display_data",
          "data": {
            "image/jpeg": "[encoded data removed]"
          },
          "metadata": {}
        },
        {
          "output_type": "display_data",
          "data": {
            "text/plain": [
              "\u001b[90m# A tibble: 1 × 7\u001b[39m\n",
              "  format width height colorspace matte filesize density\n",
              "  \u001b[3m\u001b[90m<chr>\u001b[39m\u001b[23m  \u001b[3m\u001b[90m<int>\u001b[39m\u001b[23m  \u001b[3m\u001b[90m<int>\u001b[39m\u001b[23m \u001b[3m\u001b[90m<chr>\u001b[39m\u001b[23m      \u001b[3m\u001b[90m<lgl>\u001b[39m\u001b[23m    \u001b[3m\u001b[90m<int>\u001b[39m\u001b[23m \u001b[3m\u001b[90m<chr>\u001b[39m\u001b[23m  \n",
              "\u001b[90m1\u001b[39m JPEG     249    203 sRGB       FALSE        0 72x72  "
            ]
          },
          "metadata": {}
        },
        {
          "output_type": "display_data",
          "data": {
            "image/jpeg": "[encoded data removed]"
          },
          "metadata": {}
        },
        {
          "output_type": "display_data",
          "data": {
            "text/plain": [
              "\u001b[90m# A tibble: 1 × 7\u001b[39m\n",
              "  format width height colorspace matte filesize density\n",
              "  \u001b[3m\u001b[90m<chr>\u001b[39m\u001b[23m  \u001b[3m\u001b[90m<int>\u001b[39m\u001b[23m  \u001b[3m\u001b[90m<int>\u001b[39m\u001b[23m \u001b[3m\u001b[90m<chr>\u001b[39m\u001b[23m      \u001b[3m\u001b[90m<lgl>\u001b[39m\u001b[23m    \u001b[3m\u001b[90m<int>\u001b[39m\u001b[23m \u001b[3m\u001b[90m<chr>\u001b[39m\u001b[23m  \n",
              "\u001b[90m1\u001b[39m JPEG     203    249 sRGB       FALSE        0 72x72  "
            ]
          },
          "metadata": {}
        },
        {
          "output_type": "display_data",
          "data": {
            "image/jpeg": "[encoded data removed]"
          },
          "metadata": {}
        },
        {
          "output_type": "display_data",
          "data": {
            "text/plain": [
              "\u001b[90m# A tibble: 1 × 7\u001b[39m\n",
              "  format width height colorspace matte filesize density\n",
              "  \u001b[3m\u001b[90m<chr>\u001b[39m\u001b[23m  \u001b[3m\u001b[90m<int>\u001b[39m\u001b[23m  \u001b[3m\u001b[90m<int>\u001b[39m\u001b[23m \u001b[3m\u001b[90m<chr>\u001b[39m\u001b[23m      \u001b[3m\u001b[90m<lgl>\u001b[39m\u001b[23m    \u001b[3m\u001b[90m<int>\u001b[39m\u001b[23m \u001b[3m\u001b[90m<chr>\u001b[39m\u001b[23m  \n",
              "\u001b[90m1\u001b[39m JPEG     203    249 sRGB       FALSE        0 72x72  "
            ]
          },
          "metadata": {}
        }
      ]
    },
    {
      "cell_type": "code",
      "source": [
        "# create function for save image\n",
        "saveImg <- function(Img,name) { \n",
        "image_write(Img, path = name, format = \"jpeg\", quality = 75)\n",
        "} "
      ],
      "metadata": {
        "id": "eyAQ64WZPmyg"
      },
      "execution_count": null,
      "outputs": []
    },
    {
      "cell_type": "code",
      "source": [
        "# create function to generate images and save\n",
        "creteaModifyImg <- function(xrayImg, filename){\n",
        "  saveImg(image_trim(xrayImg),paste(filename, \"_01.jpg\", sep=\"\"))\n",
        "\n",
        "  saveImg(image_crop(xrayImg,\"100x200+100\"),paste(filename, \"_02.jpg\", sep=\"\"))\n",
        "\n",
        "  saveImg(image_scale(xrayImg,\"350\"),paste(filename, \"_03.jpg\", sep=\"\"))\n",
        "\n",
        "  saveImg(image_scale(xrayImg,\"x150\"),paste(filename, \"_04.jpg\", sep=\"\"))\n",
        "\n",
        "  saveImg(image_rotate(xrayImg, 30),paste(filename, \"_05.jpg\", sep=\"\"))\n",
        "\n",
        "  saveImg(image_rotate(xrayImg, 270),paste(filename, \"_06.jpg\", sep=\"\"))\n",
        "\n",
        "  saveImg(image_flip(xrayImg),paste(filename, \"_08.jpg\", sep=\"\"))\n",
        "\n",
        "  saveImg(image_modulate(xrayImg, brightness = 150, saturation = 111, hue = 77),paste(filename, \"_09.jpg\", sep=\"\"))\n",
        "}"
      ],
      "metadata": {
        "id": "kq5ejv1nQFzR"
      },
      "execution_count": null,
      "outputs": []
    },
    {
      "cell_type": "code",
      "source": [
        "creteaModifyImg(xray1,\"x1\")"
      ],
      "metadata": {
        "id": "j35dqcFQQlQY"
      },
      "execution_count": null,
      "outputs": []
    },
    {
      "cell_type": "code",
      "source": [
        "creteaModifyImg(xray2,\"x2\")"
      ],
      "metadata": {
        "id": "n8H9N902ThFW"
      },
      "execution_count": null,
      "outputs": []
    },
    {
      "cell_type": "code",
      "source": [
        "creteaModifyImg(xray3,\"x3\")"
      ],
      "metadata": {
        "id": "Mbg7Q9_UUM9s"
      },
      "execution_count": null,
      "outputs": []
    }
  ]
}