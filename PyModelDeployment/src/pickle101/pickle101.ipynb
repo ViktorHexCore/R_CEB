{
 "cells": [
  {
   "cell_type": "code",
   "execution_count": 1,
   "metadata": {},
   "outputs": [],
   "source": [
    "import pickle"
   ]
  },
  {
   "cell_type": "code",
   "execution_count": 6,
   "metadata": {},
   "outputs": [
    {
     "data": {
      "text/plain": [
       "{'001': {'FirstName': 'Leo', 'LastName': 'Messi', 'Height': 168},\n",
       " '002': {'FirstName': 'CHris', 'LastName': 'Ronal', 'Height': 186}}"
      ]
     },
     "execution_count": 6,
     "metadata": {},
     "output_type": "execute_result"
    }
   ],
   "source": [
    "db = {}\n",
    "patient1 = {'FirstName' : 'Leo','LastName' : 'Messi','Height' : 168}\n",
    "patient2 = {'FirstName' : 'CHris','LastName' : 'Ronal','Height' : 186}\n",
    "db['001'] = patient1\n",
    "db['002'] = patient2\n",
    "db\n"
   ]
  },
  {
   "cell_type": "markdown",
   "metadata": {},
   "source": [
    "write file pickle to local file system"
   ]
  },
  {
   "cell_type": "code",
   "execution_count": 7,
   "metadata": {},
   "outputs": [],
   "source": [
    "dbfile = open(\"sampledb.pkl\",'wb')\n",
    "pickle.dump(db, dbfile)\n",
    "dbfile.close()"
   ]
  },
  {
   "cell_type": "markdown",
   "metadata": {},
   "source": [
    "read pickle file"
   ]
  },
  {
   "cell_type": "code",
   "execution_count": 8,
   "metadata": {},
   "outputs": [
    {
     "data": {
      "text/plain": [
       "{'001': {'FirstName': 'Leo', 'LastName': 'Messi', 'Height': 168},\n",
       " '002': {'FirstName': 'CHris', 'LastName': 'Ronal', 'Height': 186}}"
      ]
     },
     "execution_count": 8,
     "metadata": {},
     "output_type": "execute_result"
    }
   ],
   "source": [
    "dbfile = open('sampledb.pkl', 'rb')\n",
    "dbsample = pickle.load(dbfile)\n",
    "dbfile.close()\n",
    "\n",
    "dbsample"
   ]
  },
  {
   "cell_type": "code",
   "execution_count": null,
   "metadata": {},
   "outputs": [],
   "source": []
  }
 ],
 "metadata": {
  "kernelspec": {
   "display_name": "Python 3.10.6 64-bit",
   "language": "python",
   "name": "python3"
  },
  "language_info": {
   "codemirror_mode": {
    "name": "ipython",
    "version": 3
   },
   "file_extension": ".py",
   "mimetype": "text/x-python",
   "name": "python",
   "nbconvert_exporter": "python",
   "pygments_lexer": "ipython3",
   "version": "3.10.6"
  },
  "orig_nbformat": 4,
  "vscode": {
   "interpreter": {
    "hash": "329f83549e0df2f2cd4e951dfcdc2884bd05513f7ca509a282601bae9df1834f"
   }
  }
 },
 "nbformat": 4,
 "nbformat_minor": 2
}
